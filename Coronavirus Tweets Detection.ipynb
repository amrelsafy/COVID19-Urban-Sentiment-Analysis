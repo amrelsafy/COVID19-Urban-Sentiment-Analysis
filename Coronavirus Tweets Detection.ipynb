{
 "cells": [
  {
   "cell_type": "code",
   "execution_count": null,
   "metadata": {},
   "outputs": [],
   "source": [
    "import pandas as pd"
   ]
  },
  {
   "cell_type": "code",
   "execution_count": null,
   "metadata": {},
   "outputs": [],
   "source": [
    "import matplotlib.pyplot as plt\n",
    "import seaborn as sns\n",
    "%matplotlib inline"
   ]
  },
  {
   "cell_type": "code",
   "execution_count": null,
   "metadata": {},
   "outputs": [],
   "source": [
    "corona_dict = ['فيروس'\n",
    "               ,'حجر صحي'\n",
    "               ,'وباء'\n",
    "               ,'كورونا'\n",
    "               ,'ووهان'\n",
    "               ,'الأوبة'\n",
    "               ,'إيطاليا'\n",
    "               ,'عزل'\n",
    "               ,'حظر'\n",
    "               ,'كرونا'\n",
    "               ,'الغوا_الجامعات_حياتنا_في_خطر'\n",
    "               ,'جهاز تنفسي'\n",
    "               ,'كرونه'\n",
    "               ,'مستشفيات'\n",
    "               ,'المرض'\n",
    "               ,'كرورنا'\n",
    "               ,'حالات'\n",
    "               ,'Stay_safe'\n",
    "               ,'كوفيد'\n",
    "               ,'corona'\n",
    "               ,'covid'\n",
    "               ,'pandemic'\n",
    "               ,'lockdown'\n",
    "               ,'مستشفى'\n",
    "               ,'احمي_نفسك_احمي_بلدك'\n",
    "               ,'ماسك'\n",
    "               ,'جائحة'\n",
    "               ,'كمامة'\n",
    "               ,'مناعة'\n",
    "               ,'صين'\n",
    "               ,'وقاية'\n",
    "               ,'وعي'\n",
    "               ,'مستلزمات'\n",
    "               ,'طبية'\n",
    "               ,'تعقيم']"
   ]
  },
  {
   "cell_type": "code",
   "execution_count": null,
   "metadata": {},
   "outputs": [],
   "source": [
    "def corona_finder(tweet):\n",
    "    for word in corona_dict:\n",
    "        word = word.lower()\n",
    "        if word in tweet:\n",
    "            return True\n",
    "    return False"
   ]
  },
  {
   "cell_type": "code",
   "execution_count": null,
   "metadata": {},
   "outputs": [],
   "source": [
    "arabic_tweets = pd.read_csv('ArabicTweets.csv')"
   ]
  },
  {
   "cell_type": "code",
   "execution_count": null,
   "metadata": {},
   "outputs": [],
   "source": [
    "arabic_tweets['corona'] = arabic_tweets['tweet'].apply(corona_finder)"
   ]
  }
 ],
 "metadata": {
  "kernelspec": {
   "display_name": "Python 3",
   "language": "python",
   "name": "python3"
  },
  "language_info": {
   "codemirror_mode": {
    "name": "ipython",
    "version": 3
   },
   "file_extension": ".py",
   "mimetype": "text/x-python",
   "name": "python",
   "nbconvert_exporter": "python",
   "pygments_lexer": "ipython3",
   "version": "3.7.6"
  }
 },
 "nbformat": 4,
 "nbformat_minor": 4
}
