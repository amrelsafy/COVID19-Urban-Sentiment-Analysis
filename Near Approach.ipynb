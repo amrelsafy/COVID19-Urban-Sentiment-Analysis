{
 "cells": [
  {
   "cell_type": "code",
   "execution_count": 1,
   "metadata": {},
   "outputs": [],
   "source": [
    "import twint"
   ]
  },
  {
   "cell_type": "code",
   "execution_count": 2,
   "metadata": {},
   "outputs": [],
   "source": [
    "import nest_asyncio\n",
    "nest_asyncio.apply()"
   ]
  },
  {
   "cell_type": "code",
   "execution_count": 4,
   "metadata": {},
   "outputs": [],
   "source": [
    "import pandas as pd"
   ]
  },
  {
   "cell_type": "code",
   "execution_count": 225,
   "metadata": {},
   "outputs": [],
   "source": [
    "governorates = pd.read_csv('Governorates.csv', index=False)"
   ]
  },
  {
   "cell_type": "code",
   "execution_count": 230,
   "metadata": {},
   "outputs": [],
   "source": [
    "gov_names_en = []\n",
    "for gov in governorates['Name']:\n",
    "    gov_names_en.append(gov)"
   ]
  },
  {
   "cell_type": "code",
   "execution_count": 3,
   "metadata": {},
   "outputs": [],
   "source": [
    "e = twint.Config()"
   ]
  },
  {
   "cell_type": "code",
   "execution_count": 1,
   "metadata": {},
   "outputs": [],
   "source": [
    "e.Since = \"2020-03-08\"\n",
    "e.Until = \"2020-03-22\"\n",
    "e.Store_csv = True\n",
    "e.Lang = 'en'\n",
    "for word in gov_names_en:\n",
    "    e.Output = 'Nearby Approach/English/EgyptianEnglishNearbyTweets' + word + '.csv'\n",
    "    e.Near = word + ', Egypt'\n",
    "    twint.run.Search(e)"
   ]
  },
  {
   "cell_type": "code",
   "execution_count": 3,
   "metadata": {},
   "outputs": [],
   "source": [
    "asw = pd.read_csv('Nearby Approach/English/EgyptianEnglishNearbyTweetsAswan.csv', index=False)\n",
    "\n",
    "asw.drop_duplicates(inplace = True)\n",
    "asw.drop(['quote_url','source','user_rt_id','user_rt','retweet_id','retweet_date','translate','trans_src','trans_dest'], axis=1, inplace=True)\n",
    "asw.drop(['id', 'conversation_id', 'created_at', 'timezone', 'user_id', 'photos', 'cashtags', 'link', 'retweet', 'video','mentions','reply_to'], axis=1, inplace=True)\n",
    "\n",
    "asw['governorate'] = 'Aswan'\n",
    "\n",
    "asw.to_csv('Nearby Approach/English/EgyptianEnglishNearbyTweetsAswan.csv', index_col=False)"
   ]
  },
  {
   "cell_type": "code",
   "execution_count": 257,
   "metadata": {},
   "outputs": [],
   "source": [
    "asy = pd.read_csv('Nearby Approach/English/EgyptianEnglishNearbyTweetsAsyut.csv', index=False)\n",
    "\n",
    "asy.drop_duplicates(inplace = True)\n",
    "asy.drop(['quote_url','source','user_rt_id','user_rt','retweet_id','retweet_date','translate','trans_src','trans_dest'], axis=1, inplace=True)\n",
    "asy.drop(['id', 'conversation_id', 'created_at', 'timezone', 'user_id', 'photos', 'cashtags', 'link', 'retweet', 'video','mentions','reply_to'], axis=1, inplace=True)\n",
    "\n",
    "asy['governorate'] = 'Asyut'\n",
    "\n",
    "asy.to_csv('Nearby Approach/English/EgyptianEnglishNearbyTweetsAsyut.csv', index_col=False)"
   ]
  },
  {
   "cell_type": "code",
   "execution_count": 262,
   "metadata": {},
   "outputs": [],
   "source": [
    "isk = pd.read_csv('Nearby Approach/English/EgyptianEnglishNearbyTweetsAlexandria.csv', index=False)\n",
    "\n",
    "isk.drop_duplicates(inplace = True)\n",
    "isk.drop(['quote_url','source','user_rt_id','user_rt','retweet_id','retweet_date','translate','trans_src','trans_dest'], axis=1, inplace=True)\n",
    "isk.drop(['id', 'conversation_id', 'created_at', 'timezone', 'user_id', 'photos', 'cashtags', 'link', 'retweet', 'video','mentions','reply_to'], axis=1, inplace=True)\n",
    "\n",
    "isk['governorate'] = 'Alexandria'\n",
    "\n",
    "isk.to_csv('Nearby Approach/English/EgyptianEnglishNearbyTweetsAlexandria.csv', index_col=False)"
   ]
  },
  {
   "cell_type": "code",
   "execution_count": 267,
   "metadata": {},
   "outputs": [],
   "source": [
    "ism = pd.read_csv('Nearby Approach/English/EgyptianEnglishNearbyTweetsIsmailia.csv', index=False)\n",
    "\n",
    "ism.drop_duplicates(inplace = True)\n",
    "ism.drop(['quote_url','source','user_rt_id','user_rt','retweet_id','retweet_date','translate','trans_src','trans_dest'], axis=1, inplace=True)\n",
    "ism.drop(['id', 'conversation_id', 'created_at', 'timezone', 'user_id', 'photos', 'cashtags', 'link', 'retweet', 'video','mentions','reply_to'], axis=1, inplace=True)\n",
    "\n",
    "ism['governorate'] = 'Ismailia'\n",
    "\n",
    "ism.to_csv('Nearby Approach/English/EgyptianEnglishNearbyTweetsIsmailia.csv', index_col=False)"
   ]
  },
  {
   "cell_type": "code",
   "execution_count": 272,
   "metadata": {},
   "outputs": [],
   "source": [
    "uqs = pd.read_csv('Nearby Approach/English/EgyptianEnglishNearbyTweetsLuxor.csv', index=False)\n",
    "\n",
    "uqs.drop_duplicates(inplace = True)\n",
    "uqs.drop(['quote_url','source','user_rt_id','user_rt','retweet_id','retweet_date','translate','trans_src','trans_dest'], axis=1, inplace=True)\n",
    "uqs.drop(['id', 'conversation_id', 'created_at', 'timezone', 'user_id', 'photos', 'cashtags', 'link', 'retweet', 'video','mentions','reply_to'], axis=1, inplace=True)\n",
    "\n",
    "uqs['governorate'] = 'Luxor'\n",
    "\n",
    "uqs.to_csv('Nearby Approach/English/EgyptianEnglishNearbyTweetsLuxor.csv', index_col=False)"
   ]
  },
  {
   "cell_type": "code",
   "execution_count": 91,
   "metadata": {},
   "outputs": [],
   "source": [
    "bah = pd.read_csv('Nearby Approach/English/EgyptianEnglishNearbyTweetsRed sea.csv', index=False)\n",
    "\n",
    "bah.drop_duplicates(inplace = True)\n",
    "bah.drop(['quote_url','source','user_rt_id','user_rt','retweet_id','retweet_date','translate','trans_src','trans_dest'], axis=1, inplace=True)\n",
    "bah.drop(['id', 'conversation_id', 'created_at', 'timezone', 'user_id', 'photos', 'cashtags', 'link', 'retweet', 'video','mentions','reply_to'], axis=1, inplace=True)\n",
    "\n",
    "bah['governorate'] = 'Red Sea'\n",
    "\n",
    "bah.to_csv('Nearby Approach/English/EgyptianEnglishNearbyTweetsRed sea.csv', index_col=False)"
   ]
  },
  {
   "cell_type": "code",
   "execution_count": 277,
   "metadata": {},
   "outputs": [],
   "source": [
    "jiz = pd.read_csv('Nearby Approach/English/EgyptianEnglishNearbyTweetsGiza.csv', index=False)\n",
    "\n",
    "jiz.drop_duplicates(inplace = True)\n",
    "jiz.drop(['quote_url','source','user_rt_id','user_rt','retweet_id','retweet_date','translate','trans_src','trans_dest'], axis=1, inplace=True)\n",
    "jiz.drop(['id', 'conversation_id', 'created_at', 'timezone', 'user_id', 'photos', 'cashtags', 'link', 'retweet', 'video','mentions','reply_to'], axis=1, inplace=True)\n",
    "\n",
    "jiz['governorate'] = 'Giza'\n",
    "\n",
    "jiz.to_csv('Nearby Approach/English/EgyptianEnglishNearbyTweetsGiza.csv', index_col=False)"
   ]
  },
  {
   "cell_type": "code",
   "execution_count": 282,
   "metadata": {},
   "outputs": [],
   "source": [
    "sws = pd.read_csv('Nearby Approach/English/EgyptianEnglishNearbyTweetsSuez.csv', index=False)\n",
    "\n",
    "sws.drop_duplicates(inplace = True)\n",
    "sws.drop(['quote_url','source','user_rt_id','user_rt','retweet_id','retweet_date','translate','trans_src','trans_dest'], axis=1, inplace=True)\n",
    "sws.drop(['id', 'conversation_id', 'created_at', 'timezone', 'user_id', 'photos', 'cashtags', 'link', 'retweet', 'video','mentions','reply_to'], axis=1, inplace=True)\n",
    "\n",
    "sws['governorate'] = 'Suez'\n",
    "\n",
    "sws.to_csv('Nearby Approach/English/EgyptianEnglishNearbyTweetsSuez.csv', index_col=False)"
   ]
  },
  {
   "cell_type": "code",
   "execution_count": 287,
   "metadata": {},
   "outputs": [],
   "source": [
    "fym = pd.read_csv('Nearby Approach/English/EgyptianEnglishNearbyTweetsFayoum.csv', index=False)\n",
    "\n",
    "fym.drop_duplicates(inplace = True)\n",
    "fym.drop(['quote_url','source','user_rt_id','user_rt','retweet_id','retweet_date','translate','trans_src','trans_dest'], axis=1, inplace=True)\n",
    "fym.drop(['id', 'conversation_id', 'created_at', 'timezone', 'user_id', 'photos', 'cashtags', 'link', 'retweet', 'video','mentions','reply_to'], axis=1, inplace=True)\n",
    "\n",
    "fym['governorate'] = 'Fayoum'\n",
    "\n",
    "fym.to_csv('Nearby Approach/English/EgyptianEnglishNearbyTweetsFayoum.csv', index_col=False)"
   ]
  },
  {
   "cell_type": "code",
   "execution_count": 292,
   "metadata": {},
   "outputs": [],
   "source": [
    "qah = pd.read_csv('Nearby Approach/English/EgyptianEnglishNearbyTweetsCairo.csv', index=False)\n",
    "\n",
    "qah.drop_duplicates(inplace = True)\n",
    "qah.drop(['quote_url','source','user_rt_id','user_rt','retweet_id','retweet_date','translate','trans_src','trans_dest'], axis=1, inplace=True)\n",
    "qah.drop(['id', 'conversation_id', 'created_at', 'timezone', 'user_id', 'photos', 'cashtags', 'link', 'retweet', 'video','mentions','reply_to'], axis=1, inplace=True)\n",
    "\n",
    "qah['governorate'] = 'Cairo'\n",
    "\n",
    "qah.to_csv('Nearby Approach/English/EgyptianEnglishNearbyTweetsCairo.csv', index_col=False)"
   ]
  },
  {
   "cell_type": "code",
   "execution_count": 134,
   "metadata": {},
   "outputs": [],
   "source": [
    "mnf = pd.read_csv('Nearby Approach/English/EgyptianEnglishNearbyTweetsMonufia.csv', index=False)\n",
    "\n",
    "mnf.drop_duplicates(inplace = True)\n",
    "mnf.drop(['quote_url','source','user_rt_id','user_rt','retweet_id','retweet_date','translate','trans_src','trans_dest'], axis=1, inplace=True)\n",
    "mnf.drop(['id', 'conversation_id', 'created_at', 'timezone', 'user_id', 'photos', 'cashtags', 'link', 'retweet', 'video','mentions','reply_to'], axis=1, inplace=True)\n",
    "\n",
    "mnf['governorate'] = 'Monufia'\n",
    "\n",
    "mnf.to_csv('Nearby Approach/English/EgyptianEnglishNearbyTweetsMonufia.csv', index_col=False)"
   ]
  },
  {
   "cell_type": "code",
   "execution_count": 141,
   "metadata": {},
   "outputs": [],
   "source": [
    "mny = pd.read_csv('Nearby Approach/English/EgyptianEnglishNearbyTweetsAl-minya.csv', index=False)\n",
    "\n",
    "mny.drop_duplicates(inplace = True)\n",
    "mny.drop(['quote_url','source','user_rt_id','user_rt','retweet_id','retweet_date','translate','trans_src','trans_dest'], axis=1, inplace=True)\n",
    "mny.drop(['id', 'conversation_id', 'created_at', 'timezone', 'user_id', 'photos', 'cashtags', 'link', 'retweet', 'video','mentions','reply_to'], axis=1, inplace=True)\n",
    "\n",
    "mny['governorate'] = 'Al-Minya'\n",
    "\n",
    "mny.to_csv('Nearby Approach/English/EgyptianEnglishNearbyTweetsAl-minya.csv', index_col=False)"
   ]
  },
  {
   "cell_type": "code",
   "execution_count": 297,
   "metadata": {},
   "outputs": [],
   "source": [
    "bsw = pd.read_csv('Nearby Approach/English/EgyptianEnglishNearbyTweetsBeni suef.csv', index=False)\n",
    "\n",
    "bsw.drop_duplicates(inplace = True)\n",
    "bsw.drop(['quote_url','source','user_rt_id','user_rt','retweet_id','retweet_date','translate','trans_src','trans_dest'], axis=1, inplace=True)\n",
    "bsw.drop(['id', 'conversation_id', 'created_at', 'timezone', 'user_id', 'photos', 'cashtags', 'link', 'retweet', 'video','mentions','reply_to'], axis=1, inplace=True)\n",
    "\n",
    "bsw['governorate'] = 'Beni Suef'\n",
    "\n",
    "bsw.to_csv('Nearby Approach/English/EgyptianEnglishNearbyTweetsBeni suef.csv', index_col=False)"
   ]
  },
  {
   "cell_type": "code",
   "execution_count": 302,
   "metadata": {},
   "outputs": [],
   "source": [
    "bsd = pd.read_csv('Nearby Approach/English/EgyptianEnglishNearbyTweetsPort said.csv', index=False)\n",
    "\n",
    "bsd.drop_duplicates(inplace = True)\n",
    "bsd.drop(['quote_url','source','user_rt_id','user_rt','retweet_id','retweet_date','translate','trans_src','trans_dest'], axis=1, inplace=True)\n",
    "bsd.drop(['id', 'conversation_id', 'created_at', 'timezone', 'user_id', 'photos', 'cashtags', 'link', 'retweet', 'video','mentions','reply_to'], axis=1, inplace=True)\n",
    "\n",
    "bsd['governorate'] = 'Port Said'\n",
    "\n",
    "bsd.to_csv('Nearby Approach/English/EgyptianEnglishNearbyTweetsPort said.csv', index_col=False)"
   ]
  },
  {
   "cell_type": "code",
   "execution_count": 162,
   "metadata": {},
   "outputs": [],
   "source": [
    "sjn = pd.read_csv('Nearby Approach/English/EgyptianEnglishNearbyTweetsSouth sinai.csv', index=False)\n",
    "\n",
    "sjn.drop_duplicates(inplace = True)\n",
    "sjn.drop(['quote_url','source','user_rt_id','user_rt','retweet_id','retweet_date','translate','trans_src','trans_dest'], axis=1, inplace=True)\n",
    "sjn.drop(['id', 'conversation_id', 'created_at', 'timezone', 'user_id', 'photos', 'cashtags', 'link', 'retweet', 'video','mentions','reply_to'], axis=1, inplace=True)\n",
    "\n",
    "sjn['governorate'] = 'South Sinai'\n",
    "\n",
    "sjn.to_csv('Nearby Approach/English/EgyptianEnglishNearbyTweetsSouth sinai.csv', index_col=False)"
   ]
  },
  {
   "cell_type": "code",
   "execution_count": 307,
   "metadata": {},
   "outputs": [],
   "source": [
    "dmy = pd.read_csv('Nearby Approach/English/EgyptianEnglishNearbyTweetsDamietta.csv', index=False)\n",
    "\n",
    "dmy.drop_duplicates(inplace = True)\n",
    "dmy.drop(['quote_url','source','user_rt_id','user_rt','retweet_id','retweet_date','translate','trans_src','trans_dest'], axis=1, inplace=True)\n",
    "dmy.drop(['id', 'conversation_id', 'created_at', 'timezone', 'user_id', 'photos', 'cashtags', 'link', 'retweet', 'video','mentions','reply_to'], axis=1, inplace=True)\n",
    "\n",
    "dmy['governorate'] = 'Damietta'\n",
    "\n",
    "dmy.to_csv('Nearby Approach/English/EgyptianEnglishNearbyTweetsDamietta.csv', index_col=False)"
   ]
  },
  {
   "cell_type": "code",
   "execution_count": 312,
   "metadata": {},
   "outputs": [],
   "source": [
    "swj = pd.read_csv('Nearby Approach/English/EgyptianEnglishNearbyTweetsSohag.csv', index=False)\n",
    "\n",
    "swj.drop_duplicates(inplace = True)\n",
    "swj.drop(['quote_url','source','user_rt_id','user_rt','retweet_id','retweet_date','translate','trans_src','trans_dest'], axis=1, inplace=True)\n",
    "swj.drop(['id', 'conversation_id', 'created_at', 'timezone', 'user_id', 'photos', 'cashtags', 'link', 'retweet', 'video','mentions','reply_to'], axis=1, inplace=True)\n",
    "\n",
    "swj['governorate'] = 'Sohag'\n",
    "\n",
    "swj.to_csv('Nearby Approach/English/EgyptianEnglishNearbyTweetsSohag.csv', index_col=False)"
   ]
  },
  {
   "cell_type": "code",
   "execution_count": 183,
   "metadata": {},
   "outputs": [],
   "source": [
    "ssh = pd.read_csv('Nearby Approach/English/EgyptianEnglishNearbyTweetsNorth sinai.csv', index=False)\n",
    "\n",
    "ssh.drop_duplicates(inplace = True)\n",
    "ssh.drop(['quote_url','source','user_rt_id','user_rt','retweet_id','retweet_date','translate','trans_src','trans_dest'], axis=1, inplace=True)\n",
    "ssh.drop(['id', 'conversation_id', 'created_at', 'timezone', 'user_id', 'photos', 'cashtags', 'link', 'retweet', 'video','mentions','reply_to'], axis=1, inplace=True)\n",
    "\n",
    "ssh['governorate'] = 'North Sinai'\n",
    "\n",
    "ssh.to_csv('Nearby Approach/English/EgyptianEnglishNearbyTweetsNorth sinai.csv', index_col=False)"
   ]
  },
  {
   "cell_type": "code",
   "execution_count": 190,
   "metadata": {},
   "outputs": [],
   "source": [
    "ghr = pd.read_csv('Nearby Approach/English/EgyptianEnglishNearbyTweetsGharbia.csv', index=False)\n",
    "\n",
    "ghr.drop_duplicates(inplace = True)\n",
    "ghr.drop(['quote_url','source','user_rt_id','user_rt','retweet_id','retweet_date','translate','trans_src','trans_dest'], axis=1, inplace=True)\n",
    "ghr.drop(['id', 'conversation_id', 'created_at', 'timezone', 'user_id', 'photos', 'cashtags', 'link', 'retweet', 'video','mentions','reply_to'], axis=1, inplace=True)\n",
    "\n",
    "ghr['governorate'] = 'Gharbia'\n",
    "\n",
    "ghr.to_csv('Nearby Approach/English/EgyptianEnglishNearbyTweetsGharbia.csv', index_col=False)"
   ]
  },
  {
   "cell_type": "code",
   "execution_count": 317,
   "metadata": {},
   "outputs": [],
   "source": [
    "ksh = pd.read_csv('Nearby Approach/English/EgyptianEnglishNearbyTweetsKafr el-Sheikh.csv', index=False)\n",
    "\n",
    "ksh.drop_duplicates(inplace = True)\n",
    "ksh.drop(['quote_url','source','user_rt_id','user_rt','retweet_id','retweet_date','translate','trans_src','trans_dest'], axis=1, inplace=True)\n",
    "ksh.drop(['id', 'conversation_id', 'created_at', 'timezone', 'user_id', 'photos', 'cashtags', 'link', 'retweet', 'video','mentions','reply_to'], axis=1, inplace=True)\n",
    "\n",
    "ksh['governorate'] = 'Kafr el-Sheikh'\n",
    "\n",
    "ksh.to_csv('Nearby Approach/English/EgyptianEnglishNearbyTweetsKafr el-Sheikh.csv', index_col=False)"
   ]
  },
  {
   "cell_type": "code",
   "execution_count": 322,
   "metadata": {},
   "outputs": [],
   "source": [
    "qna = pd.read_csv('Nearby Approach/English/EgyptianEnglishNearbyTweetsQena.csv', index=False)\n",
    "\n",
    "qna.drop_duplicates(inplace = True)\n",
    "qna.drop(['quote_url','source','user_rt_id','user_rt','retweet_id','retweet_date','translate','trans_src','trans_dest'], axis=1, inplace=True)\n",
    "qna.drop(['id', 'conversation_id', 'created_at', 'timezone', 'user_id', 'photos', 'cashtags', 'link', 'retweet', 'video','mentions','reply_to'], axis=1, inplace=True)\n",
    "\n",
    "qna['governorate'] = 'Qena'\n",
    "\n",
    "qna.to_csv('Nearby Approach/English/EgyptianEnglishNearbyTweetsQena.csv', index_col=False)"
   ]
  },
  {
   "cell_type": "code",
   "execution_count": 211,
   "metadata": {},
   "outputs": [],
   "source": [
    "mtr = pd.read_csv('Nearby Approach/English/EgyptianEnglishNearbyTweetsMatrouh.csv', index=False)\n",
    "\n",
    "mtr.drop_duplicates(inplace = True)\n",
    "mtr.drop(['quote_url','source','user_rt_id','user_rt','retweet_id','retweet_date','translate','trans_src','trans_dest'], axis=1, inplace=True)\n",
    "mtr.drop(['id', 'conversation_id', 'created_at', 'timezone', 'user_id', 'photos', 'cashtags', 'link', 'retweet', 'video','mentions','reply_to'], axis=1, inplace=True)\n",
    "\n",
    "mtr['governorate'] = 'Matrouh'\n",
    "\n",
    "mtr.to_csv('Nearby Approach/English/EgyptianEnglishNearbyTweetsMatrouh.csv', index_col=False)"
   ]
  },
  {
   "cell_type": "code",
   "execution_count": 218,
   "metadata": {},
   "outputs": [],
   "source": [
    "english_nearby_tweets = pd.concat([asw,asy,isk,ism,uqs,bah,jiz,sws,fym,qah,mnf,mny,bsw,bsd,sjn,dmy,swj,ssh,ghr,ksh,qna,mtr])"
   ]
  },
  {
   "cell_type": "code",
   "execution_count": 221,
   "metadata": {},
   "outputs": [],
   "source": [
    "import matplotlib.pyplot as plt\n",
    "import seaborn as sns\n",
    "%matplotlib inline"
   ]
  },
  {
   "cell_type": "code",
   "execution_count": 222,
   "metadata": {},
   "outputs": [
    {
     "data": {
      "text/plain": [
       "<matplotlib.axes._subplots.AxesSubplot at 0x2b6182502c8>"
      ]
     },
     "execution_count": 222,
     "metadata": {},
     "output_type": "execute_result"
    },
    {
     "data": {
      "image/png": "[encoded data removed]",
      "text/plain": [
       "<Figure size 432x288 with 2 Axes>"
      ]
     },
     "metadata": {
      "needs_background": "light"
     },
     "output_type": "display_data"
    }
   ],
   "source": [
    "sns.heatmap(english_nearby_tweets.isnull())"
   ]
  },
  {
   "cell_type": "code",
   "execution_count": 223,
   "metadata": {},
   "outputs": [],
   "source": [
    "english_nearby_tweets['language'] = 'English'"
   ]
  },
  {
   "cell_type": "code",
   "execution_count": 224,
   "metadata": {},
   "outputs": [],
   "source": [
    "english_nearby_tweets.to_csv('Nearby Approach/English/EgyptianEnglishNearbyTweets.csv', index=False)"
   ]
  },
  {
   "cell_type": "code",
   "execution_count": 327,
   "metadata": {},
   "outputs": [],
   "source": [
    "arabic_nearby_tweets = pd.concat([asw,asy,isk,ism,uqs,jiz,sws,fym,qah,bsw,bsd,dmy,swj,ksh,qna])"
   ]
  },
  {
   "cell_type": "code",
   "execution_count": 329,
   "metadata": {},
   "outputs": [],
   "source": [
    "arabic_nearby_tweets['language'] = 'Arabic'"
   ]
  },
  {
   "cell_type": "code",
   "execution_count": 333,
   "metadata": {},
   "outputs": [],
   "source": [
    "nearby_tweets = pd.concat([arabic_nearby_tweets, english_nearby_tweets])"
   ]
  },
  {
   "cell_type": "code",
   "execution_count": 336,
   "metadata": {},
   "outputs": [],
   "source": [
    "nearby_tweets['method'] = 'Nearby'"
   ]
  },
  {
   "cell_type": "code",
   "execution_count": 337,
   "metadata": {},
   "outputs": [
    {
     "data": {
      "text/html": [
       "<div>\n",
       "<style scoped>\n",
       "    .dataframe tbody tr th:only-of-type {\n",
       "        vertical-align: middle;\n",
       "    }\n",
       "\n",
       "    .dataframe tbody tr th {\n",
       "        vertical-align: top;\n",
       "    }\n",
       "\n",
       "    .dataframe thead th {\n",
       "        text-align: right;\n",
       "    }\n",
       "</style>\n",
       "<table border=\"1\" class=\"dataframe\">\n",
       "  <thead>\n",
       "    <tr style=\"text-align: right;\">\n",
       "      <th></th>\n",
       "      <th>date</th>\n",
       "      <th>time</th>\n",
       "      <th>username</th>\n",
       "      <th>name</th>\n",
       "      <th>place</th>\n",
       "      <th>tweet</th>\n",
       "      <th>urls</th>\n",
       "      <th>replies_count</th>\n",
       "      <th>retweets_count</th>\n",
       "      <th>likes_count</th>\n",
       "      <th>hashtags</th>\n",
       "      <th>near</th>\n",
       "      <th>geo</th>\n",
       "      <th>governorate</th>\n",
       "      <th>language</th>\n",
       "      <th>method</th>\n",
       "    </tr>\n",
       "  </thead>\n",
       "  <tbody>\n",
       "    <tr>\n",
       "      <th>0</th>\n",
       "      <td>2020-03-21</td>\n",
       "      <td>20:25:39</td>\n",
       "      <td>ahmed_anwar_el7</td>\n",
       "      <td>الحلنجى</td>\n",
       "      <td>Nile Corniche Aswan | كورنيش النيل بأسوان</td>\n",
       "      <td>اخدنا يوم حلو بعد اذن نهاية العالم 🙏 pic.twitt...</td>\n",
       "      <td>[]</td>\n",
       "      <td>0</td>\n",
       "      <td>0</td>\n",
       "      <td>24</td>\n",
       "      <td>[]</td>\n",
       "      <td>Aswan, Egypt</td>\n",
       "      <td>NaN</td>\n",
       "      <td>Aswan</td>\n",
       "      <td>Arabic</td>\n",
       "      <td>Nearby</td>\n",
       "    </tr>\n",
       "    <tr>\n",
       "      <th>1</th>\n",
       "      <td>2020-03-21</td>\n",
       "      <td>19:10:01</td>\n",
       "      <td>muhammedaaref</td>\n",
       "      <td>المُررْ 🖤</td>\n",
       "      <td>Aswan Downtown</td>\n",
       "      <td>#NewProfilePic\\nيعم اهوو بنضححكك 😁💜 pic.twitte...</td>\n",
       "      <td>[]</td>\n",
       "      <td>0</td>\n",
       "      <td>0</td>\n",
       "      <td>8</td>\n",
       "      <td>['#newprofilepic']</td>\n",
       "      <td>Aswan, Egypt</td>\n",
       "      <td>NaN</td>\n",
       "      <td>Aswan</td>\n",
       "      <td>Arabic</td>\n",
       "      <td>Nearby</td>\n",
       "    </tr>\n",
       "    <tr>\n",
       "      <th>2</th>\n",
       "      <td>2020-03-19</td>\n",
       "      <td>22:16:43</td>\n",
       "      <td>bodymontaser11</td>\n",
       "      <td>پودي منتصر </td>\n",
       "      <td>Nile Corniche Aswan | كورنيش النيل بأسوان</td>\n",
       "      <td>يا قلبى يا وحيد مع حلمك البعيد.. pic.twitter.c...</td>\n",
       "      <td>[]</td>\n",
       "      <td>1</td>\n",
       "      <td>0</td>\n",
       "      <td>37</td>\n",
       "      <td>[]</td>\n",
       "      <td>Aswan, Egypt</td>\n",
       "      <td>NaN</td>\n",
       "      <td>Aswan</td>\n",
       "      <td>Arabic</td>\n",
       "      <td>Nearby</td>\n",
       "    </tr>\n",
       "    <tr>\n",
       "      <th>3</th>\n",
       "      <td>2020-03-19</td>\n",
       "      <td>21:56:53</td>\n",
       "      <td>khaledhelmy27</td>\n",
       "      <td>🦇</td>\n",
       "      <td>Aswan Old Market | سوق اسوان القديم</td>\n",
       "      <td>الوضع بقي حرج pic.twitter.com/NbXo0eUsFu – at ...</td>\n",
       "      <td>[]</td>\n",
       "      <td>0</td>\n",
       "      <td>0</td>\n",
       "      <td>3</td>\n",
       "      <td>[]</td>\n",
       "      <td>Aswan, Egypt</td>\n",
       "      <td>NaN</td>\n",
       "      <td>Aswan</td>\n",
       "      <td>Arabic</td>\n",
       "      <td>Nearby</td>\n",
       "    </tr>\n",
       "    <tr>\n",
       "      <th>4</th>\n",
       "      <td>2020-03-19</td>\n",
       "      <td>17:13:04</td>\n",
       "      <td>a_saeedrashd</td>\n",
       "      <td>Rashd, Ahmd saeed</td>\n",
       "      <td>NaN</td>\n",
       "      <td>#اسوان\\nمن أكثر الأماكن الدخلت قلبي سريعا ♥️ p...</td>\n",
       "      <td>[]</td>\n",
       "      <td>2</td>\n",
       "      <td>0</td>\n",
       "      <td>7</td>\n",
       "      <td>['#اسوان']</td>\n",
       "      <td>Aswan, Egypt</td>\n",
       "      <td>NaN</td>\n",
       "      <td>Aswan</td>\n",
       "      <td>Arabic</td>\n",
       "      <td>Nearby</td>\n",
       "    </tr>\n",
       "    <tr>\n",
       "      <th>...</th>\n",
       "      <td>...</td>\n",
       "      <td>...</td>\n",
       "      <td>...</td>\n",
       "      <td>...</td>\n",
       "      <td>...</td>\n",
       "      <td>...</td>\n",
       "      <td>...</td>\n",
       "      <td>...</td>\n",
       "      <td>...</td>\n",
       "      <td>...</td>\n",
       "      <td>...</td>\n",
       "      <td>...</td>\n",
       "      <td>...</td>\n",
       "      <td>...</td>\n",
       "      <td>...</td>\n",
       "      <td>...</td>\n",
       "    </tr>\n",
       "    <tr>\n",
       "      <th>18698</th>\n",
       "      <td>2020-03-08</td>\n",
       "      <td>02:02:50</td>\n",
       "      <td>mai_elsherbeny9</td>\n",
       "      <td>ℳ𝒶𝓎ℴ𝓊𝓈𝒽.</td>\n",
       "      <td>NaN</td>\n",
       "      <td>#new_profile_pic  +1 A very well spent day💯 pi...</td>\n",
       "      <td>[]</td>\n",
       "      <td>3</td>\n",
       "      <td>2</td>\n",
       "      <td>152</td>\n",
       "      <td>['#new_profile_pic']</td>\n",
       "      <td>Matrouh, Egypt</td>\n",
       "      <td>NaN</td>\n",
       "      <td>Matrouh</td>\n",
       "      <td>English</td>\n",
       "      <td>Nearby</td>\n",
       "    </tr>\n",
       "    <tr>\n",
       "      <th>18699</th>\n",
       "      <td>2020-03-08</td>\n",
       "      <td>02:01:56</td>\n",
       "      <td>mohammedelomdaa</td>\n",
       "      <td>Иломда</td>\n",
       "      <td>NaN</td>\n",
       "      <td>Charlie 🖤\\n#NewProfilePic pic.twitter.com/iAiS...</td>\n",
       "      <td>[]</td>\n",
       "      <td>0</td>\n",
       "      <td>0</td>\n",
       "      <td>6</td>\n",
       "      <td>['#newprofilepic']</td>\n",
       "      <td>Matrouh, Egypt</td>\n",
       "      <td>NaN</td>\n",
       "      <td>Matrouh</td>\n",
       "      <td>English</td>\n",
       "      <td>Nearby</td>\n",
       "    </tr>\n",
       "    <tr>\n",
       "      <th>18700</th>\n",
       "      <td>2020-03-08</td>\n",
       "      <td>02:01:45</td>\n",
       "      <td>hannaragab</td>\n",
       "      <td>Hana Ragab</td>\n",
       "      <td>NaN</td>\n",
       "      <td>If we’re able to express the heaviness held in...</td>\n",
       "      <td>[]</td>\n",
       "      <td>0</td>\n",
       "      <td>2</td>\n",
       "      <td>2</td>\n",
       "      <td>[]</td>\n",
       "      <td>Matrouh, Egypt</td>\n",
       "      <td>NaN</td>\n",
       "      <td>Matrouh</td>\n",
       "      <td>English</td>\n",
       "      <td>Nearby</td>\n",
       "    </tr>\n",
       "    <tr>\n",
       "      <th>18701</th>\n",
       "      <td>2020-03-08</td>\n",
       "      <td>02:01:14</td>\n",
       "      <td>cocowawa__</td>\n",
       "      <td>كريمه.</td>\n",
       "      <td>NaN</td>\n",
       "      <td>I deserve.</td>\n",
       "      <td>[]</td>\n",
       "      <td>0</td>\n",
       "      <td>0</td>\n",
       "      <td>2</td>\n",
       "      <td>[]</td>\n",
       "      <td>Matrouh, Egypt</td>\n",
       "      <td>NaN</td>\n",
       "      <td>Matrouh</td>\n",
       "      <td>English</td>\n",
       "      <td>Nearby</td>\n",
       "    </tr>\n",
       "    <tr>\n",
       "      <th>18702</th>\n",
       "      <td>2020-03-08</td>\n",
       "      <td>02:00:17</td>\n",
       "      <td>asmaaa_atef</td>\n",
       "      <td>بلقيس</td>\n",
       "      <td>NaN</td>\n",
       "      <td>Please choose the right way only.</td>\n",
       "      <td>[]</td>\n",
       "      <td>1</td>\n",
       "      <td>0</td>\n",
       "      <td>0</td>\n",
       "      <td>[]</td>\n",
       "      <td>Matrouh, Egypt</td>\n",
       "      <td>NaN</td>\n",
       "      <td>Matrouh</td>\n",
       "      <td>English</td>\n",
       "      <td>Nearby</td>\n",
       "    </tr>\n",
       "  </tbody>\n",
       "</table>\n",
       "<p>180599 rows × 16 columns</p>\n",
       "</div>"
      ],
      "text/plain": [
       "             date      time         username               name  \\\n",
       "0      2020-03-21  20:25:39  ahmed_anwar_el7            الحلنجى   \n",
       "1      2020-03-21  19:10:01    muhammedaaref          المُررْ 🖤   \n",
       "2      2020-03-19  22:16:43   bodymontaser11       پودي منتصر    \n",
       "3      2020-03-19  21:56:53    khaledhelmy27                  🦇   \n",
       "4      2020-03-19  17:13:04     a_saeedrashd  Rashd, Ahmd saeed   \n",
       "...           ...       ...              ...                ...   \n",
       "18698  2020-03-08  02:02:50  mai_elsherbeny9           ℳ𝒶𝓎ℴ𝓊𝓈𝒽.   \n",
       "18699  2020-03-08  02:01:56  mohammedelomdaa             Иломда   \n",
       "18700  2020-03-08  02:01:45       hannaragab         Hana Ragab   \n",
       "18701  2020-03-08  02:01:14       cocowawa__             كريمه.   \n",
       "18702  2020-03-08  02:00:17      asmaaa_atef              بلقيس   \n",
       "\n",
       "                                           place  \\\n",
       "0      Nile Corniche Aswan | كورنيش النيل بأسوان   \n",
       "1                                 Aswan Downtown   \n",
       "2      Nile Corniche Aswan | كورنيش النيل بأسوان   \n",
       "3            Aswan Old Market | سوق اسوان القديم   \n",
       "4                                            NaN   \n",
       "...                                          ...   \n",
       "18698                                        NaN   \n",
       "18699                                        NaN   \n",
       "18700                                        NaN   \n",
       "18701                                        NaN   \n",
       "18702                                        NaN   \n",
       "\n",
       "                                                   tweet urls  replies_count  \\\n",
       "0      اخدنا يوم حلو بعد اذن نهاية العالم 🙏 pic.twitt...   []              0   \n",
       "1      #NewProfilePic\\nيعم اهوو بنضححكك 😁💜 pic.twitte...   []              0   \n",
       "2      يا قلبى يا وحيد مع حلمك البعيد.. pic.twitter.c...   []              1   \n",
       "3      الوضع بقي حرج pic.twitter.com/NbXo0eUsFu – at ...   []              0   \n",
       "4      #اسوان\\nمن أكثر الأماكن الدخلت قلبي سريعا ♥️ p...   []              2   \n",
       "...                                                  ...  ...            ...   \n",
       "18698  #new_profile_pic  +1 A very well spent day💯 pi...   []              3   \n",
       "18699  Charlie 🖤\\n#NewProfilePic pic.twitter.com/iAiS...   []              0   \n",
       "18700  If we’re able to express the heaviness held in...   []              0   \n",
       "18701                                         I deserve.   []              0   \n",
       "18702                  Please choose the right way only.   []              1   \n",
       "\n",
       "       retweets_count  likes_count              hashtags            near  geo  \\\n",
       "0                   0           24                    []    Aswan, Egypt  NaN   \n",
       "1                   0            8    ['#newprofilepic']    Aswan, Egypt  NaN   \n",
       "2                   0           37                    []    Aswan, Egypt  NaN   \n",
       "3                   0            3                    []    Aswan, Egypt  NaN   \n",
       "4                   0            7            ['#اسوان']    Aswan, Egypt  NaN   \n",
       "...               ...          ...                   ...             ...  ...   \n",
       "18698               2          152  ['#new_profile_pic']  Matrouh, Egypt  NaN   \n",
       "18699               0            6    ['#newprofilepic']  Matrouh, Egypt  NaN   \n",
       "18700               2            2                    []  Matrouh, Egypt  NaN   \n",
       "18701               0            2                    []  Matrouh, Egypt  NaN   \n",
       "18702               0            0                    []  Matrouh, Egypt  NaN   \n",
       "\n",
       "      governorate language  method  \n",
       "0           Aswan   Arabic  Nearby  \n",
       "1           Aswan   Arabic  Nearby  \n",
       "2           Aswan   Arabic  Nearby  \n",
       "3           Aswan   Arabic  Nearby  \n",
       "4           Aswan   Arabic  Nearby  \n",
       "...           ...      ...     ...  \n",
       "18698     Matrouh  English  Nearby  \n",
       "18699     Matrouh  English  Nearby  \n",
       "18700     Matrouh  English  Nearby  \n",
       "18701     Matrouh  English  Nearby  \n",
       "18702     Matrouh  English  Nearby  \n",
       "\n",
       "[180599 rows x 16 columns]"
      ]
     },
     "execution_count": 337,
     "metadata": {},
     "output_type": "execute_result"
    }
   ],
   "source": [
    "nearby_tweets"
   ]
  },
  {
   "cell_type": "code",
   "execution_count": null,
   "metadata": {},
   "outputs": [],
   "source": []
  }
 ],
 "metadata": {
  "kernelspec": {
   "display_name": "Python 3",
   "language": "python",
   "name": "python3"
  },
  "language_info": {
   "codemirror_mode": {
    "name": "ipython",
    "version": 3
   },
   "file_extension": ".py",
   "mimetype": "text/x-python",
   "name": "python",
   "nbconvert_exporter": "python",
   "pygments_lexer": "ipython3",
   "version": "3.7.6"
  }
 },
 "nbformat": 4,
 "nbformat_minor": 4
}
