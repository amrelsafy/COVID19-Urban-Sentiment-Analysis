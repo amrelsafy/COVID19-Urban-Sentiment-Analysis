{
 "cells": [
  {
   "cell_type": "code",
   "execution_count": null,
   "metadata": {},
   "outputs": [],
   "source": [
    "import twint\n",
    "import nest_asyncio\n",
    "nest_asyncio.apply()"
   ]
  },
  {
   "cell_type": "code",
   "execution_count": null,
   "metadata": {},
   "outputs": [],
   "source": [
    "import pandas as pd"
   ]
  },
  {
   "cell_type": "code",
   "execution_count": null,
   "metadata": {},
   "outputs": [],
   "source": [
    "import matplotlib.pyplot as plt\n",
    "import seaborn as sns\n",
    "%matplotlib inline"
   ]
  },
  {
   "cell_type": "code",
   "execution_count": null,
   "metadata": {},
   "outputs": [],
   "source": [
    "c = twint.Config()"
   ]
  },
  {
   "cell_type": "code",
   "execution_count": null,
   "metadata": {},
   "outputs": [],
   "source": [
    "c.Store_csv = True\n",
    "c.Since = \"2020-3-08\"\n",
    "c.Until = \"2020-3-22\"\n",
    "c.Lang = \"ar\""
   ]
  },
  {
   "cell_type": "code",
   "execution_count": null,
   "metadata": {},
   "outputs": [],
   "source": [
    "for i in range(0,governorates.count()['Name']):\n",
    "    row = governorates.iloc[i]\n",
    "    geocode = str(row['lat'])+','+str(row['lng'])+','+str(row['Radius'])+'km'\n",
    "    c.Geo = geocode\n",
    "    output = 'Geotagged Approach/Arabic/EgyptianArabicGeoTweets'+ row['Name'] + '.csv'\n",
    "    c.Output = output\n",
    "    twint.run.Search(c)"
   ]
  },
  {
   "cell_type": "code",
   "execution_count": null,
   "metadata": {},
   "outputs": [],
   "source": [
    "c.Lang = \"en\"\n",
    "for i in range(0,governorates.count()['Name']):\n",
    "    row = governorates.iloc[i]\n",
    "    geocode = str(row['lat'])+','+str(row['lng'])+','+str(row['Radius'])+'km'\n",
    "    c.Geo = geocode\n",
    "    output = 'Geotagged Approach/English/EgyptianEnglishGeoTweets'+ row['Name'] + '.csv'\n",
    "    c.Output = output\n",
    "    twint.run.Search(c)"
   ]
  },
  {
   "cell_type": "code",
   "execution_count": null,
   "metadata": {},
   "outputs": [],
   "source": [
    "isk = pd.read_csv('Geotagged Approach/English/EgyptianEnglishGeoTweetsAlexandria.csv', index_col=False)\n",
    "\n",
    "isk.drop_duplicates(inplace=True)\n",
    "isk.drop(['id', 'conversation_id', 'created_at', 'timezone', 'user_id', 'mentions', 'photos', 'cashtags', 'link', 'retweet', 'quote_url', 'video', 'source', 'user_rt_id', 'user_rt', 'retweet_id', 'reply_to', 'retweet_date', 'translate', 'trans_src', 'trans_dest'], axis=1, inplace=True)\n",
    "\n",
    "isk['governorate'] = 'Alexandria'\n",
    "isk['language'] = 'English'\n",
    "\n",
    "isk.to_csv('Geotagged Approach/English/EgyptianEnglishGeoTweetsAlexandria.csv', index=False)"
   ]
  },
  {
   "cell_type": "code",
   "execution_count": null,
   "metadata": {},
   "outputs": [],
   "source": [
    "mny = pd.read_csv('Geotagged Approach/English/EgyptianEnglishGeoTweetsAl-Minya.csv', index_col=False)\n",
    "\n",
    "mny.drop_duplicates(inplace=True)\n",
    "mny.drop(['id', 'conversation_id', 'created_at', 'timezone', 'user_id', 'mentions', 'photos', 'cashtags', 'link', 'retweet', 'quote_url', 'video', 'source', 'user_rt_id', 'user_rt', 'retweet_id', 'reply_to', 'retweet_date', 'translate', 'trans_src', 'trans_dest'], axis=1, inplace=True)\n",
    "\n",
    "mny['governorate'] = 'Al-Minya'\n",
    "mny['language'] = 'English'\n",
    "\n",
    "mny.to_csv('Geotagged Approach/English/EgyptianEnglishGeoTweetsAl-Minya.csv', index=False)"
   ]
  },
  {
   "cell_type": "code",
   "execution_count": null,
   "metadata": {},
   "outputs": [],
   "source": [
    "asw = pd.read_csv('Geotagged Approach/English/EgyptianEnglishGeoTweetsAswan.csv', index_col=False)\n",
    "\n",
    "asw.drop_duplicates(inplace=True)\n",
    "asw.drop(['id', 'conversation_id', 'created_at', 'timezone', 'user_id', 'mentions', 'photos', 'cashtags', 'link', 'retweet', 'quote_url', 'video', 'source', 'user_rt_id', 'user_rt', 'retweet_id', 'reply_to', 'retweet_date', 'translate', 'trans_src', 'trans_dest'], axis=1, inplace=True)\n",
    "\n",
    "asw['governorate'] = 'Aswan'\n",
    "asw['language'] = 'English'\n",
    "\n",
    "asw.to_csv('Geotagged Approach/English/EgyptianEnglishGeoTweetsAswan.csv', index=False)"
   ]
  },
  {
   "cell_type": "code",
   "execution_count": null,
   "metadata": {},
   "outputs": [],
   "source": [
    "asy = pd.read_csv('Geotagged Approach/English/EgyptianEnglishGeoTweetsAsyut.csv', index_col=False)\n",
    "\n",
    "asy.drop_duplicates(inplace=True)\n",
    "asy.drop(['id', 'conversation_id', 'created_at', 'timezone', 'user_id', 'mentions', 'photos', 'cashtags', 'link', 'retweet', 'quote_url', 'video', 'source', 'user_rt_id', 'user_rt', 'retweet_id', 'reply_to', 'retweet_date', 'translate', 'trans_src', 'trans_dest'], axis=1, inplace=True)\n",
    "\n",
    "asy['governorate'] = 'Asyut'\n",
    "asy['language'] = 'English'\n",
    "\n",
    "asy.to_csv('Geotagged Approach/English/EgyptianEnglishGeoTweetsAsyut.csv', index=False)"
   ]
  },
  {
   "cell_type": "code",
   "execution_count": null,
   "metadata": {},
   "outputs": [],
   "source": [
    "bhr = pd.read_csv('Geotagged Approach/English/EgyptianEnglishGeoTweetsBeheira.csv', index_col=False)\n",
    "\n",
    "bhr.drop_duplicates(inplace=True)\n",
    "bhr.drop(['id', 'conversation_id', 'created_at', 'timezone', 'user_id', 'mentions', 'photos', 'cashtags', 'link', 'retweet', 'quote_url', 'video', 'source', 'user_rt_id', 'user_rt', 'retweet_id', 'reply_to', 'retweet_date', 'translate', 'trans_src', 'trans_dest'], axis=1, inplace=True)\n",
    "\n",
    "bhr['governorate'] = 'Beheira'\n",
    "bhr['language'] = 'English'\n",
    "\n",
    "bhr.to_csv('Geotagged Approach/English/EgyptianEnglishGeoTweetsBeheira.csv', index=False)"
   ]
  },
  {
   "cell_type": "code",
   "execution_count": null,
   "metadata": {},
   "outputs": [],
   "source": [
    "bnf = pd.read_csv('Geotagged Approach/English/EgyptianEnglishGeoTweetsBeni Suef.csv', index_col=False)\n",
    "\n",
    "bnf.drop_duplicates(inplace=True)\n",
    "bnf.drop(['id', 'conversation_id', 'created_at', 'timezone', 'user_id', 'mentions', 'photos', 'cashtags', 'link', 'retweet', 'quote_url', 'video', 'source', 'user_rt_id', 'user_rt', 'retweet_id', 'reply_to', 'retweet_date', 'translate', 'trans_src', 'trans_dest'], axis=1, inplace=True)\n",
    "\n",
    "bnf['governorate'] = 'Beni Suef'\n",
    "bnf['language'] = 'English'\n",
    "\n",
    "bnf.to_csv('Geotagged Approach/English/EgyptianEnglishGeoTweetsBeni Suef.csv', index=False)"
   ]
  },
  {
   "cell_type": "code",
   "execution_count": null,
   "metadata": {},
   "outputs": [],
   "source": [
    "qah = pd.read_csv('Geotagged Approach/English/EgyptianEnglishGeoTweetsCairo.csv', index_col=False)\n",
    "\n",
    "qah.drop_duplicates(inplace=True)\n",
    "qah.drop(['id', 'conversation_id', 'created_at', 'timezone', 'user_id', 'mentions', 'photos', 'cashtags', 'link', 'retweet', 'quote_url', 'video', 'source', 'user_rt_id', 'user_rt', 'retweet_id', 'reply_to', 'retweet_date', 'translate', 'trans_src', 'trans_dest'], axis=1, inplace=True)\n",
    "\n",
    "qah['governorate'] = 'Cairo'\n",
    "qah['language'] = 'English'\n",
    "\n",
    "qah.to_csv('Geotagged Approach/English/EgyptianEnglishGeoTweetsCairo.csv', index=False)"
   ]
  },
  {
   "cell_type": "code",
   "execution_count": null,
   "metadata": {},
   "outputs": [],
   "source": [
    "daq = pd.read_csv('Geotagged Approach/English/EgyptianEnglishGeoTweetsDakahlia.csv', index_col=False)\n",
    "\n",
    "daq.drop_duplicates(inplace=True)\n",
    "daq.drop(['id', 'conversation_id', 'created_at', 'timezone', 'user_id', 'mentions', 'photos', 'cashtags', 'link', 'retweet', 'quote_url', 'video', 'source', 'user_rt_id', 'user_rt', 'retweet_id', 'reply_to', 'retweet_date', 'translate', 'trans_src', 'trans_dest'], axis=1, inplace=True)\n",
    "\n",
    "daq['governorate'] = 'Dakahlia'\n",
    "daq['language'] = 'English'\n",
    "\n",
    "daq.to_csv('Geotagged Approach/English/EgyptianEnglishGeoTweetsDakahlia.csv', index=False)"
   ]
  },
  {
   "cell_type": "code",
   "execution_count": null,
   "metadata": {},
   "outputs": [],
   "source": [
    "dmy = pd.read_csv('Geotagged Approach/English/EgyptianEnglishGeoTweetsDamietta.csv', index_col=False)\n",
    "\n",
    "dmy.drop_duplicates(inplace=True)\n",
    "dmy.drop(['id', 'conversation_id', 'created_at', 'timezone', 'user_id', 'mentions', 'photos', 'cashtags', 'link', 'retweet', 'quote_url', 'video', 'source', 'user_rt_id', 'user_rt', 'retweet_id', 'reply_to', 'retweet_date', 'translate', 'trans_src', 'trans_dest'], axis=1, inplace=True)\n",
    "\n",
    "dmy['governorate'] = 'Damietta'\n",
    "dmy['language'] = 'English'\n",
    "\n",
    "dmy.to_csv('Geotagged Approach/English/EgyptianEnglishGeoTweetsDamietta.csv', index=False)"
   ]
  },
  {
   "cell_type": "code",
   "execution_count": null,
   "metadata": {},
   "outputs": [],
   "source": [
    "fmy = pd.read_csv('Geotagged Approach/English/EgyptianEnglishGeoTweetsFayoum.csv', index_col=False)\n",
    "\n",
    "fmy.drop_duplicates(inplace=True)\n",
    "fmy.drop(['id', 'conversation_id', 'created_at', 'timezone', 'user_id', 'mentions', 'photos', 'cashtags', 'link', 'retweet', 'quote_url', 'video', 'source', 'user_rt_id', 'user_rt', 'retweet_id', 'reply_to', 'retweet_date', 'translate', 'trans_src', 'trans_dest'], axis=1, inplace=True)\n",
    "\n",
    "fmy['governorate'] = 'Fayoum'\n",
    "fmy['language'] = 'English'\n",
    "\n",
    "fmy.to_csv('Geotagged Approach/English/EgyptianEnglishGeoTweetsFayoum.csv', index=False)"
   ]
  },
  {
   "cell_type": "code",
   "execution_count": null,
   "metadata": {},
   "outputs": [],
   "source": [
    "ghr = pd.read_csv('Geotagged Approach/English/EgyptianEnglishGeoTweetsGharbia.csv', index_col=False)\n",
    "\n",
    "ghr.drop_duplicates(inplace=True)\n",
    "ghr.drop(['id', 'conversation_id', 'created_at', 'timezone', 'user_id', 'mentions', 'photos', 'cashtags', 'link', 'retweet', 'quote_url', 'video', 'source', 'user_rt_id', 'user_rt', 'retweet_id', 'reply_to', 'retweet_date', 'translate', 'trans_src', 'trans_dest'], axis=1, inplace=True)\n",
    "\n",
    "ghr['governorate'] = 'Gharbia'\n",
    "ghr['language'] = 'English'\n",
    "\n",
    "ghr.to_csv('Geotagged Approach/English/EgyptianEnglishGeoTweetsGharbia.csv', index=False)"
   ]
  },
  {
   "cell_type": "code",
   "execution_count": null,
   "metadata": {},
   "outputs": [],
   "source": [
    "jiz = pd.read_csv('Geotagged Approach/English/EgyptianEnglishGeoTweetsGiza.csv', index_col=False)\n",
    "\n",
    "jiz.drop_duplicates(inplace=True)\n",
    "jiz.drop(['id', 'conversation_id', 'created_at', 'timezone', 'user_id', 'mentions', 'photos', 'cashtags', 'link', 'retweet', 'quote_url', 'video', 'source', 'user_rt_id', 'user_rt', 'retweet_id', 'reply_to', 'retweet_date', 'translate', 'trans_src', 'trans_dest'], axis=1, inplace=True)\n",
    "\n",
    "jiz['governorate'] = 'Giza'\n",
    "jiz['language'] = 'English'\n",
    "\n",
    "jiz.to_csv('Geotagged Approach/English/EgyptianEnglishGeoTweetsGiza.csv', index=False)"
   ]
  },
  {
   "cell_type": "code",
   "execution_count": null,
   "metadata": {},
   "outputs": [],
   "source": [
    "ism = pd.read_csv('Geotagged Approach/English/EgyptianEnglishGeoTweetsIsmailia.csv', index_col=False)\n",
    "\n",
    "ism.drop_duplicates(inplace=True)\n",
    "ism.drop(['id', 'conversation_id', 'created_at', 'timezone', 'user_id', 'mentions', 'photos', 'cashtags', 'link', 'retweet', 'quote_url', 'video', 'source', 'user_rt_id', 'user_rt', 'retweet_id', 'reply_to', 'retweet_date', 'translate', 'trans_src', 'trans_dest'], axis=1, inplace=True)\n",
    "\n",
    "ism['governorate'] = 'Ismailia'\n",
    "ism['language'] = 'English'\n",
    "\n",
    "ism.to_csv('Geotagged Approach/English/EgyptianEnglishGeoTweetsIsmailia.csv', index=False)"
   ]
  },
  {
   "cell_type": "code",
   "execution_count": null,
   "metadata": {},
   "outputs": [],
   "source": [
    "ksh = pd.read_csv('Geotagged Approach/English/EgyptianEnglishGeoTweetsKafr el-Sheikh.csv', index_col=False)\n",
    "\n",
    "ksh.drop_duplicates(inplace=True)\n",
    "ksh.drop(['id', 'conversation_id', 'created_at', 'timezone', 'user_id', 'mentions', 'photos', 'cashtags', 'link', 'retweet', 'quote_url', 'video', 'source', 'user_rt_id', 'user_rt', 'retweet_id', 'reply_to', 'retweet_date', 'translate', 'trans_src', 'trans_dest'], axis=1, inplace=True)\n",
    "\n",
    "ksh['governorate'] = 'Kafr el-Sheikh'\n",
    "ksh['language'] = 'English'\n",
    "\n",
    "ksh.to_csv('Geotagged Approach/English/EgyptianEnglishGeoTweetsKafr el-Sheikh.csv', index=False)"
   ]
  },
  {
   "cell_type": "code",
   "execution_count": null,
   "metadata": {},
   "outputs": [],
   "source": [
    "uqs = pd.read_csv('Geotagged Approach/English/EgyptianEnglishGeoTweetsLuxor.csv', index_col=False)\n",
    "\n",
    "uqs.drop_duplicates(inplace=True)\n",
    "uqs.drop(['id', 'conversation_id', 'created_at', 'timezone', 'user_id', 'mentions', 'photos', 'cashtags', 'link', 'retweet', 'quote_url', 'video', 'source', 'user_rt_id', 'user_rt', 'retweet_id', 'reply_to', 'retweet_date', 'translate', 'trans_src', 'trans_dest'], axis=1, inplace=True)\n",
    "\n",
    "uqs['governorate'] = 'Luxor'\n",
    "uqs['language'] = 'English'\n",
    "\n",
    "uqs.to_csv('Geotagged Approach/English/EgyptianEnglishGeoTweetsLuxor.csv', index=False)"
   ]
  },
  {
   "cell_type": "code",
   "execution_count": null,
   "metadata": {},
   "outputs": [],
   "source": [
    "mtr = pd.read_csv('Geotagged Approach/English/EgyptianEnglishGeoTweetsMatrouh.csv', index_col=False)\n",
    "\n",
    "mtr.drop_duplicates(inplace=True)\n",
    "mtr.drop(['id', 'conversation_id', 'created_at', 'timezone', 'user_id', 'mentions', 'photos', 'cashtags', 'link', 'retweet', 'quote_url', 'video', 'source', 'user_rt_id', 'user_rt', 'retweet_id', 'reply_to', 'retweet_date', 'translate', 'trans_src', 'trans_dest'], axis=1, inplace=True)\n",
    "\n",
    "mtr['governorate'] = 'Matrouh'\n",
    "mtr['language'] = 'English'\n",
    "\n",
    "mtr.to_csv('Geotagged Approach/English/EgyptianEnglishGeoTweetsMatrouh.csv', index=False)"
   ]
  },
  {
   "cell_type": "code",
   "execution_count": null,
   "metadata": {},
   "outputs": [],
   "source": [
    "mnf = pd.read_csv('Geotagged Approach/English/EgyptianEnglishGeoTweetsMonufia.csv', index_col=False)\n",
    "\n",
    "mnf.drop_duplicates(inplace=True)\n",
    "mnf.drop(['id', 'conversation_id', 'created_at', 'timezone', 'user_id', 'mentions', 'photos', 'cashtags', 'link', 'retweet', 'quote_url', 'video', 'source', 'user_rt_id', 'user_rt', 'retweet_id', 'reply_to', 'retweet_date', 'translate', 'trans_src', 'trans_dest'], axis=1, inplace=True)\n",
    "\n",
    "mnf['governorate'] = 'Monufia'\n",
    "mnf['language'] = 'English'\n",
    "\n",
    "mnf.to_csv('Geotagged Approach/English/EgyptianEnglishGeoTweetsMonufia.csv', index=False)"
   ]
  },
  {
   "cell_type": "code",
   "execution_count": null,
   "metadata": {},
   "outputs": [],
   "source": [
    "wjd = pd.read_csv('Geotagged Approach/English/EgyptianEnglishGeoTweetsNew Valley.csv', index_col=False)\n",
    "\n",
    "wjd.drop_duplicates(inplace=True)\n",
    "wjd.drop(['id', 'conversation_id', 'created_at', 'timezone', 'user_id', 'mentions', 'photos', 'cashtags', 'link', 'retweet', 'quote_url', 'video', 'source', 'user_rt_id', 'user_rt', 'retweet_id', 'reply_to', 'retweet_date', 'translate', 'trans_src', 'trans_dest'], axis=1, inplace=True)\n",
    "\n",
    "wjd['governorate'] = 'New Valley'\n",
    "wjd['language'] = 'English'\n",
    "\n",
    "wjd.to_csv('Geotagged Approach/English/EgyptianEnglishGeoTweetsNew Valley.csv', index=False)"
   ]
  },
  {
   "cell_type": "code",
   "execution_count": null,
   "metadata": {},
   "outputs": [],
   "source": [
    "ssh = pd.read_csv('Geotagged Approach/English/EgyptianEnglishGeoTweetsNorth Sinai.csv', index_col=False)\n",
    "\n",
    "ssh.drop_duplicates(inplace=True)\n",
    "ssh.drop(['id', 'conversation_id', 'created_at', 'timezone', 'user_id', 'mentions', 'photos', 'cashtags', 'link', 'retweet', 'quote_url', 'video', 'source', 'user_rt_id', 'user_rt', 'retweet_id', 'reply_to', 'retweet_date', 'translate', 'trans_src', 'trans_dest'], axis=1, inplace=True)\n",
    "\n",
    "ssh['governorate'] = 'North Sinai'\n",
    "ssh['language'] = 'English'\n",
    "\n",
    "ssh.to_csv('Geotagged Approach/English/EgyptianEnglishGeoTweetsNorth Sinai.csv', index=False)"
   ]
  },
  {
   "cell_type": "code",
   "execution_count": null,
   "metadata": {},
   "outputs": [],
   "source": [
    "bsd = pd.read_csv('Geotagged Approach/English/EgyptianEnglishGeoTweetsPort Said.csv', index_col=False)\n",
    "\n",
    "bsd.drop_duplicates(inplace=True)\n",
    "bsd.drop(['id', 'conversation_id', 'created_at', 'timezone', 'user_id', 'mentions', 'photos', 'cashtags', 'link', 'retweet', 'quote_url', 'video', 'source', 'user_rt_id', 'user_rt', 'retweet_id', 'reply_to', 'retweet_date', 'translate', 'trans_src', 'trans_dest'], axis=1, inplace=True)\n",
    "\n",
    "bsd['governorate'] = 'Port Said'\n",
    "bsd['language'] = 'English'\n",
    "\n",
    "bsd.to_csv('Geotagged Approach/English/EgyptianEnglishGeoTweetsPort Said.csv', index=False)"
   ]
  },
  {
   "cell_type": "code",
   "execution_count": null,
   "metadata": {},
   "outputs": [],
   "source": [
    "qly = pd.read_csv('Geotagged Approach/English/EgyptianEnglishGeoTweetsQalyubia.csv', index_col=False)\n",
    "\n",
    "qly.drop_duplicates(inplace=True)\n",
    "qly.drop(['id', 'conversation_id', 'created_at', 'timezone', 'user_id', 'mentions', 'photos', 'cashtags', 'link', 'retweet', 'quote_url', 'video', 'source', 'user_rt_id', 'user_rt', 'retweet_id', 'reply_to', 'retweet_date', 'translate', 'trans_src', 'trans_dest'], axis=1, inplace=True)\n",
    "\n",
    "qly['governorate'] = 'Qalyubia'\n",
    "qly['language'] = 'English'\n",
    "\n",
    "qly.to_csv('Geotagged Approach/English/EgyptianEnglishGeoTweetsQalyubia.csv', index=False)"
   ]
  },
  {
   "cell_type": "code",
   "execution_count": null,
   "metadata": {},
   "outputs": [],
   "source": [
    "qna = pd.read_csv('Geotagged Approach/English/EgyptianEnglishGeoTweetsQena.csv', index_col=False)\n",
    "\n",
    "qna.drop_duplicates(inplace=True)\n",
    "qna.drop(['id', 'conversation_id', 'created_at', 'timezone', 'user_id', 'mentions', 'photos', 'cashtags', 'link', 'retweet', 'quote_url', 'video', 'source', 'user_rt_id', 'user_rt', 'retweet_id', 'reply_to', 'retweet_date', 'translate', 'trans_src', 'trans_dest'], axis=1, inplace=True)\n",
    "\n",
    "qna['governorate'] = 'Qena'\n",
    "qna['language'] = 'English'\n",
    "\n",
    "qna.to_csv('Geotagged Approach/English/EgyptianEnglishGeoTweetsQena.csv', index=False)"
   ]
  },
  {
   "cell_type": "code",
   "execution_count": null,
   "metadata": {},
   "outputs": [],
   "source": [
    "bah = pd.read_csv('Geotagged Approach/English/EgyptianEnglishGeoTweetsRed Sea.csv', index_col=False)\n",
    "\n",
    "bah.drop_duplicates(inplace=True)\n",
    "bah.drop(['id', 'conversation_id', 'created_at', 'timezone', 'user_id', 'mentions', 'photos', 'cashtags', 'link', 'retweet', 'quote_url', 'video', 'source', 'user_rt_id', 'user_rt', 'retweet_id', 'reply_to', 'retweet_date', 'translate', 'trans_src', 'trans_dest'], axis=1, inplace=True)\n",
    "\n",
    "bah['governorate'] = 'Red Sea'\n",
    "bah['language'] = 'English'\n",
    "\n",
    "bah.to_csv('Geotagged Approach/English/EgyptianEnglishGeoTweetsRed Sea.csv', index=False)"
   ]
  },
  {
   "cell_type": "code",
   "execution_count": null,
   "metadata": {},
   "outputs": [],
   "source": [
    "sha = pd.read_csv('Geotagged Approach/English/EgyptianEnglishGeoTweetsSharqia.csv', index_col=False)\n",
    "\n",
    "sha.drop_duplicates(inplace=True)\n",
    "sha.drop(['id', 'conversation_id', 'created_at', 'timezone', 'user_id', 'mentions', 'photos', 'cashtags', 'link', 'retweet', 'quote_url', 'video', 'source', 'user_rt_id', 'user_rt', 'retweet_id', 'reply_to', 'retweet_date', 'translate', 'trans_src', 'trans_dest'], axis=1, inplace=True)\n",
    "\n",
    "sha['governorate'] = 'Sharqia'\n",
    "sha['language'] = 'English'\n",
    "\n",
    "sha.to_csv('Geotagged Approach/English/EgyptianEnglishGeoTweetsSharqia.csv', index=False)"
   ]
  },
  {
   "cell_type": "code",
   "execution_count": null,
   "metadata": {},
   "outputs": [],
   "source": [
    "swj = pd.read_csv('Geotagged Approach/English/EgyptianEnglishGeoTweetsSohag.csv')\n",
    "\n",
    "swj.drop_duplicates(inplace=True)\n",
    "swj.drop(['id', 'conversation_id', 'created_at', 'timezone', 'user_id', 'mentions', 'photos', 'cashtags', 'link', 'retweet', 'quote_url', 'video', 'source', 'user_rt_id', 'user_rt', 'retweet_id', 'reply_to', 'retweet_date', 'translate', 'trans_src', 'trans_dest'], axis=1, inplace=True)\n",
    "\n",
    "swj['governorate'] = 'Sohag'\n",
    "swj['language'] = 'English'\n",
    "\n",
    "swj.to_csv('Geotagged Approach/English/EgyptianEnglishGeoTweetsSohag.csv')"
   ]
  },
  {
   "cell_type": "code",
   "execution_count": null,
   "metadata": {},
   "outputs": [],
   "source": [
    "sjn = pd.read_csv('Geotagged Approach/English/EgyptianEnglishGeoTweetsSouth Sinai.csv', index_col=False)\n",
    "\n",
    "sjn.drop_duplicates(inplace=True)\n",
    "sjn.drop(['id', 'conversation_id', 'created_at', 'timezone', 'user_id', 'mentions', 'photos', 'cashtags', 'link', 'retweet', 'quote_url', 'video', 'source', 'user_rt_id', 'user_rt', 'retweet_id', 'reply_to', 'retweet_date', 'translate', 'trans_src', 'trans_dest'], axis=1, inplace=True)\n",
    "\n",
    "sjn['governorate'] = 'South Sinai'\n",
    "sjn['language'] = 'English'\n",
    "\n",
    "sjn.to_csv('Geotagged Approach/English/EgyptianEnglishGeoTweetsSouth Sinai.csv', index=False)"
   ]
  },
  {
   "cell_type": "code",
   "execution_count": null,
   "metadata": {},
   "outputs": [],
   "source": [
    "sws = pd.read_csv('Geotagged Approach/English/EgyptianEnglishGeoTweetsSuez.csv', index=False)\n",
    "\n",
    "sws.drop_duplicates(inplace=True)\n",
    "sws.drop(['id', 'conversation_id', 'created_at', 'timezone', 'user_id', 'mentions', 'photos', 'cashtags', 'link', 'retweet', 'quote_url', 'video', 'source', 'user_rt_id', 'user_rt', 'retweet_id', 'reply_to', 'retweet_date', 'translate', 'trans_src', 'trans_dest'], axis=1, inplace=True)\n",
    "\n",
    "sws['governorate'] = 'Suez'\n",
    "sws['language'] = 'English'\n",
    "\n",
    "sws.to_csv('Geotagged Approach/English/EgyptianEnglishGeoTweetsSuez.csv', index=False)"
   ]
  },
  {
   "cell_type": "code",
   "execution_count": null,
   "metadata": {},
   "outputs": [],
   "source": [
    "english_geotagged_tweets = pd.concat([asw,asy,isk,ism,uqs,bah,jiz,sws,fmy,qah,mnf,mny,bnf,bsd,sjn,dmy,swj,ssh,ghr,ksh,qna,mtr,daq,qly,bhr,wjd,sha])"
   ]
  },
  {
   "cell_type": "code",
   "execution_count": null,
   "metadata": {},
   "outputs": [],
   "source": [
    "english_geotagged_tweets['method'] = 'Geotagged'\n",
    "english_geotagged_tweets['language'] = 'English'"
   ]
  },
  {
   "cell_type": "code",
   "execution_count": null,
   "metadata": {},
   "outputs": [],
   "source": [
    "english_geotagged_tweets.to_csv('Geotagged Approach/English/EgyptianEnglishGeoTweets.csv', index=False)"
   ]
  },
  {
   "cell_type": "code",
   "execution_count": null,
   "metadata": {},
   "outputs": [],
   "source": [
    "arabic_geotagged_tweets.to_csv('Geotagged Approach/Arabic/EgyptianArabicGeoTweets.csv')"
   ]
  },
  {
   "cell_type": "code",
   "execution_count": null,
   "metadata": {},
   "outputs": [],
   "source": [
    "geotagged_tweets = pd.concat([arabic_geotagged_tweets, english_geotagged_tweets])"
   ]
  },
  {
   "cell_type": "code",
   "execution_count": null,
   "metadata": {},
   "outputs": [],
   "source": [
    "geotagged_tweets.to_csv('Geotagged Approach/EgyptianGeoTweets.csv')"
   ]
  }
 ],
 "metadata": {
  "kernelspec": {
   "display_name": "Python 3",
   "language": "python",
   "name": "python3"
  },
  "language_info": {
   "codemirror_mode": {
    "name": "ipython",
    "version": 3
   },
   "file_extension": ".py",
   "mimetype": "text/x-python",
   "name": "python",
   "nbconvert_exporter": "python",
   "pygments_lexer": "ipython3",
   "version": "3.7.6"
  }
 },
 "nbformat": 4,
 "nbformat_minor": 4
}
