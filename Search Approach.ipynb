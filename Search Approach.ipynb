{
 "cells": [
  {
   "cell_type": "code",
   "execution_count": 1,
   "metadata": {},
   "outputs": [],
   "source": [
    "import twint"
   ]
  },
  {
   "cell_type": "code",
   "execution_count": 2,
   "metadata": {},
   "outputs": [],
   "source": [
    "import nest_asyncio\n",
    "nest_asyncio.apply()"
   ]
  },
  {
   "cell_type": "code",
   "execution_count": 3,
   "metadata": {},
   "outputs": [],
   "source": [
    "import pandas as pd"
   ]
  },
  {
   "cell_type": "code",
   "execution_count": 4,
   "metadata": {},
   "outputs": [],
   "source": [
    "governorates = pd.read_csv('Governorates.csv')"
   ]
  },
  {
   "cell_type": "code",
   "execution_count": 10,
   "metadata": {},
   "outputs": [],
   "source": [
    "gov_names_ar = []\n",
    "for gov in governorates['Native']:\n",
    "    gov_names_ar.append(gov)"
   ]
  },
  {
   "cell_type": "code",
   "execution_count": 11,
   "metadata": {},
   "outputs": [],
   "source": [
    "e = twint.Config()"
   ]
  },
  {
   "cell_type": "code",
   "execution_count": 13,
   "metadata": {},
   "outputs": [],
   "source": [
    "e.Since = \"2020-3-08\"\n",
    "e.Until = \"2020-3-22\"\n",
    "e.Store_csv = True\n",
    "e.Lang = 'ar'\n",
    "for word in gov_names_ar:\n",
    "    e.Search = word\n",
    "    e.Output = 'Search Approach/Arabic/EgyptianArabicSearchTweets' + word +'.csv'\n",
    "    twint.run.Search(e)"
   ]
  },
  {
   "cell_type": "markdown",
   "metadata": {},
   "source": [
    "الغربية = طنطا  \\\\\n",
    "الشرقية = الزقازيق"
   ]
  },
  {
   "cell_type": "code",
   "execution_count": 1,
   "metadata": {},
   "outputs": [],
   "source": [
    "asw = pd.read_csv('Search Approach/Arabic/EgyptianArabicSearchTweetsأسوان.csv', index=False)\n",
    "asw.drop(['quote_url','source','user_rt_id','user_rt','retweet_id','retweet_date','translate','trans_src','trans_dest','id', 'conversation_id', 'created_at', 'timezone', 'user_id', 'photos', 'cashtags', 'link', 'retweet', 'video','mentions','reply_to'], axis=1, inplace=True)\n",
    "asw['governorate'] = 'Aswan'\n",
    "asw.to_csv('Search Approach/Arabic/EgyptianArabicSearchTweetsأسوان.csv' index_col=False)"
   ]
  },
  {
   "cell_type": "code",
   "execution_count": 2,
   "metadata": {},
   "outputs": [],
   "source": [
    "asy = pd.read_csv('Search Approach/Arabic/EgyptianArabicSearchTweetsأسيوط.csv', index=False)\n",
    "asy.drop(['quote_url','source','user_rt_id','user_rt','retweet_id','retweet_date','translate','trans_src','trans_dest','id', 'conversation_id', 'created_at', 'timezone', 'user_id', 'photos', 'cashtags', 'link', 'retweet', 'video','mentions','reply_to'], axis=1, inplace=True)\n",
    "asy['governorate'] = 'Asyut'\n",
    "asy.to_csv('Search Approach/Arabic/EgyptianArabicSearchTweetsأسيوط.csv', index_col=False)"
   ]
  },
  {
   "cell_type": "code",
   "execution_count": 88,
   "metadata": {},
   "outputs": [],
   "source": [
    "isk = pd.read_csv('Search Approach/Arabic/EgyptianArabicSearchTweetsالإسكندرية.csv', index=False)\n",
    "isk.drop(['quote_url','source','user_rt_id','user_rt','retweet_id','retweet_date','translate','trans_src','trans_dest','id', 'conversation_id', 'created_at', 'timezone', 'user_id', 'photos', 'cashtags', 'link', 'retweet', 'video','mentions','reply_to'], axis=1, inplace=True)\n",
    "isk['governorate'] = 'Alexandria'\n",
    "isk.to_csv('Search Approach/Arabic/EgyptianArabicSearchTweetsالإسكندرية.csv', index_col=False)"
   ]
  },
  {
   "cell_type": "code",
   "execution_count": 93,
   "metadata": {},
   "outputs": [],
   "source": [
    "ism = pd.read_csv('Search Approach/Arabic/EgyptianArabicSearchTweetsالإسماعيلية.csv', index=False)\n",
    "ism.drop(['quote_url','source','user_rt_id','user_rt','retweet_id','retweet_date','translate','trans_src','trans_dest','id', 'conversation_id', 'created_at', 'timezone', 'user_id', 'photos', 'cashtags', 'link', 'retweet', 'video','mentions','reply_to'], axis=1, inplace=True)\n",
    "ism['governorate'] = 'Ismailia'\n",
    "ism.to_csv('Search Approach/Arabic/EgyptianArabicSearchTweetsالإسماعيلية.csv', index_col=False)"
   ]
  },
  {
   "cell_type": "code",
   "execution_count": 99,
   "metadata": {},
   "outputs": [],
   "source": [
    "uqs = pd.read_csv('Search Approach/Arabic/EgyptianArabicSearchTweetsالأقصر.csv', index=False)\n",
    "uqs.drop(['quote_url','source','user_rt_id','user_rt','retweet_id','retweet_date','translate','trans_src','trans_dest','id', 'conversation_id', 'created_at', 'timezone', 'user_id', 'photos', 'cashtags', 'link', 'retweet', 'video','mentions','reply_to'], axis=1, inplace=True)\n",
    "uqs['governorate'] = 'Luxor'\n",
    "uqs.to_csv('Search Approach/Arabic/EgyptianArabicSearchTweetsالأقصر.csv', index_col=False)"
   ]
  },
  {
   "cell_type": "code",
   "execution_count": 104,
   "metadata": {},
   "outputs": [],
   "source": [
    "bah = pd.read_csv('Search Approach/Arabic/EgyptianArabicSearchTweetsالبحر الأحمر.csv', index=False)\n",
    "bah.drop(['quote_url','source','user_rt_id','user_rt','retweet_id','retweet_date','translate','trans_src','trans_dest','id', 'conversation_id', 'created_at', 'timezone', 'user_id', 'photos', 'cashtags', 'link', 'retweet', 'video','mentions','reply_to'], axis=1, inplace=True)\n",
    "bah['governorate'] = 'Red Sea'\n",
    "bah.to_csv('Search Approach/Arabic/EgyptianArabicSearchTweetsالبحر الأحمر.csv', index_col=False)"
   ]
  },
  {
   "cell_type": "code",
   "execution_count": 109,
   "metadata": {},
   "outputs": [],
   "source": [
    "bhr = pd.read_csv('Search Approach/Arabic/EgyptianArabicSearchTweetsالبحيرة.csv', index=False)\n",
    "bhr.drop(['quote_url','source','user_rt_id','user_rt','retweet_id','retweet_date','translate','trans_src','trans_dest','id', 'conversation_id', 'created_at', 'timezone', 'user_id', 'photos', 'cashtags', 'link', 'retweet', 'video','mentions','reply_to'], axis=1, inplace=True)\n",
    "bhr['governorate'] = 'Beheira'\n",
    "bhr.to_csv('Search Approach/Arabic/EgyptianArabicSearchTweetsالبحيرة.csv', index_col=False)"
   ]
  },
  {
   "cell_type": "code",
   "execution_count": 114,
   "metadata": {},
   "outputs": [],
   "source": [
    "jiz = pd.read_csv('Search Approach/Arabic/EgyptianArabicSearchTweetsالجيزة.csv', index=False)\n",
    "jiz.drop(['quote_url','source','user_rt_id','user_rt','retweet_id','retweet_date','translate','trans_src','trans_dest','id', 'conversation_id', 'created_at', 'timezone', 'user_id', 'photos', 'cashtags', 'link', 'retweet', 'video','mentions','reply_to'], axis=1, inplace=True)\n",
    "jiz['governorate'] = 'Giza'\n",
    "jiz.to_csv('Search Approach/Arabic/EgyptianArabicSearchTweetsالجيزة.csv', index=False)"
   ]
  },
  {
   "cell_type": "code",
   "execution_count": 120,
   "metadata": {},
   "outputs": [],
   "source": [
    "dqh = pd.read_csv('Search Approach/Arabic/EgyptianArabicSearchTweetsالدقهلية.csv', index=False)\n",
    "dqh.drop(['quote_url','source','user_rt_id','user_rt','retweet_id','retweet_date','translate','trans_src','trans_dest','id', 'conversation_id', 'created_at', 'timezone', 'user_id', 'photos', 'cashtags', 'link', 'retweet', 'video','mentions','reply_to'], axis=1, inplace=True)\n",
    "dqh['governorate'] = 'Dakahlia'\n",
    "dqh.to_csv('Search Approach/Arabic/EgyptianArabicSearchTweetsالدقهلية.csv', index_col=False)"
   ]
  },
  {
   "cell_type": "code",
   "execution_count": 125,
   "metadata": {},
   "outputs": [],
   "source": [
    "sha = pd.read_csv('Search Approach/Arabic/EgyptianArabicSearchTweetsالزقازيق.csv', index=False)\n",
    "sha.drop(['quote_url','source','user_rt_id','user_rt','retweet_id','retweet_date','translate','trans_src','trans_dest','id', 'conversation_id', 'created_at', 'timezone', 'user_id', 'photos', 'cashtags', 'link', 'retweet', 'video','mentions','reply_to'], axis=1, inplace=True)\n",
    "sha['governorate'] = 'Sharqia'\n",
    "sha.to_csv('Search Approach/Arabic/EgyptianArabicSearchTweetsالزقازيق.csv', index_col=False)"
   ]
  },
  {
   "cell_type": "code",
   "execution_count": 130,
   "metadata": {},
   "outputs": [],
   "source": [
    "sws = pd.read_csv('Search Approach/Arabic/EgyptianArabicSearchTweetsالسويس.csv' index=False)\n",
    "sws.drop(['quote_url','source','user_rt_id','user_rt','retweet_id','retweet_date','translate','trans_src','trans_dest','id', 'conversation_id', 'created_at', 'timezone', 'user_id', 'photos', 'cashtags', 'link', 'retweet', 'video','mentions','reply_to'], axis=1, inplace=True)\n",
    "sws['governorate'] = 'Suez'\n",
    "sws.to_csv('Search Approach/Arabic/EgyptianArabicSearchTweetsالسويس.csv' index_col=False)"
   ]
  },
  {
   "cell_type": "code",
   "execution_count": 135,
   "metadata": {},
   "outputs": [],
   "source": [
    "fym = pd.read_csv('Search Approach/Arabic/EgyptianArabicSearchTweetsالفيوم.csv', index=False)\n",
    "fym.drop(['quote_url','source','user_rt_id','user_rt','retweet_id','retweet_date','translate','trans_src','trans_dest','id', 'conversation_id', 'created_at', 'timezone', 'user_id', 'photos', 'cashtags', 'link', 'retweet', 'video','mentions','reply_to'], axis=1, inplace=True)\n",
    "fym['governorate'] = 'Fayoum'\n",
    "fym.to_csv('Search Approach/Arabic/EgyptianArabicSearchTweetsالفيوم.csv', index_col=False)"
   ]
  },
  {
   "cell_type": "code",
   "execution_count": 141,
   "metadata": {},
   "outputs": [],
   "source": [
    "qah = pd.read_csv('Search Approach/Arabic/EgyptianArabicSearchTweetsالقاهرة.csv', index=False)\n",
    "qah.drop(['quote_url','source','user_rt_id','user_rt','retweet_id','retweet_date','translate','trans_src','trans_dest','id', 'conversation_id', 'created_at', 'timezone', 'user_id', 'photos', 'cashtags', 'link', 'retweet', 'video','mentions','reply_to'], axis=1, inplace=True)\n",
    "qah['governorate'] = 'Cairo'\n",
    "qah.to_csv('Search Approach/Arabic/EgyptianArabicSearchTweetsالقاهرة.csv', index_col=False)"
   ]
  },
  {
   "cell_type": "code",
   "execution_count": 147,
   "metadata": {},
   "outputs": [],
   "source": [
    "qly = pd.read_csv('Search Approach/Arabic/EgyptianArabicSearchTweetsالقليوبية.csv', index=False)\n",
    "qly.drop(['quote_url','source','user_rt_id','user_rt','retweet_id','retweet_date','translate','trans_src','trans_dest','id', 'conversation_id', 'created_at', 'timezone', 'user_id', 'photos', 'cashtags', 'link', 'retweet', 'video','mentions','reply_to'], axis=1, inplace=True)\n",
    "qly['governorate'] = 'Qalyubia'\n",
    "qly.to_csv('Search Approach/Arabic/EgyptianArabicSearchTweetsالقليوبية.csv', index_col=False)"
   ]
  },
  {
   "cell_type": "code",
   "execution_count": 152,
   "metadata": {},
   "outputs": [],
   "source": [
    "mnf = pd.read_csv('Search Approach/Arabic/EgyptianArabicSearchTweetsالمنوفية.csv', index=False)\n",
    "mnf.drop(['quote_url','source','user_rt_id','user_rt','retweet_id','retweet_date','translate','trans_src','trans_dest','id', 'conversation_id', 'created_at', 'timezone', 'user_id', 'photos', 'cashtags', 'link', 'retweet', 'video','mentions','reply_to'], axis=1, inplace=True)\n",
    "mnf['governorate'] = 'Monufia'\n",
    "mnf.to_csv('Search Approach/Arabic/EgyptianArabicSearchTweetsالمنوفية.csv', index_col=False)"
   ]
  },
  {
   "cell_type": "code",
   "execution_count": 157,
   "metadata": {},
   "outputs": [],
   "source": [
    "mny = pd.read_csv('Search Approach/Arabic/EgyptianArabicSearchTweetsالمنيا.csv', index=False)\n",
    "mny.drop(['quote_url','source','user_rt_id','user_rt','retweet_id','retweet_date','translate','trans_src','trans_dest','id', 'conversation_id', 'created_at', 'timezone', 'user_id', 'photos', 'cashtags', 'link', 'retweet', 'video','mentions','reply_to'], axis=1, inplace=True)\n",
    "mny['governorate'] = 'Al-Minya'\n",
    "mny = pd.read_csv('Search Approach/Arabic/EgyptianArabicSearchTweetsالمنيا.csv', index_col=False)"
   ]
  },
  {
   "cell_type": "code",
   "execution_count": 162,
   "metadata": {},
   "outputs": [],
   "source": [
    "wjd = pd.read_csv('Search Approach/Arabic/EgyptianArabicSearchTweetsالوادي الجديد.csv', index=False)\n",
    "wjd.drop(['quote_url','source','user_rt_id','user_rt','retweet_id','retweet_date','translate','trans_src','trans_dest','id', 'conversation_id', 'created_at', 'timezone', 'user_id', 'photos', 'cashtags', 'link', 'retweet', 'video','mentions','reply_to'], axis=1, inplace=True)\n",
    "wjd['governorate'] = 'New Valley'\n",
    "wjd.to_csv('Search Approach/Arabic/EgyptianArabicSearchTweetsالوادي الجديد.csv', index_col=False)"
   ]
  },
  {
   "cell_type": "code",
   "execution_count": 167,
   "metadata": {},
   "outputs": [],
   "source": [
    "bsw = pd.read_csv('Search Approach/Arabic/EgyptianArabicSearchTweetsبنى سويف.csv', index=False)\n",
    "bsw.drop(['quote_url','source','user_rt_id','user_rt','retweet_id','retweet_date','translate','trans_src','trans_dest','id', 'conversation_id', 'created_at', 'timezone', 'user_id', 'photos', 'cashtags', 'link', 'retweet', 'video','mentions','reply_to'], axis=1, inplace=True)\n",
    "bsw['governorate'] = 'Beni Suef'\n",
    "bsw.to_csv('Search Approach/Arabic/EgyptianArabicSearchTweetsبنى سويف.csv', index=False)"
   ]
  },
  {
   "cell_type": "code",
   "execution_count": 172,
   "metadata": {},
   "outputs": [],
   "source": [
    "bsd = pd.read_csv('Search Approach/Arabic/EgyptianArabicSearchTweetsبور سعيد.csv', index=False)\n",
    "bsd.drop(['quote_url','source','user_rt_id','user_rt','retweet_id','retweet_date','translate','trans_src','trans_dest','id', 'conversation_id', 'created_at', 'timezone', 'user_id', 'photos', 'cashtags', 'link', 'retweet', 'video','mentions','reply_to'], axis=1, inplace=True)\n",
    "bsd['governorate'] = 'Port Said'\n",
    "bsd.to_csv('Search Approach/Arabic/EgyptianArabicSearchTweetsبور سعيد.csv', index_col=False)"
   ]
  },
  {
   "cell_type": "code",
   "execution_count": 177,
   "metadata": {},
   "outputs": [],
   "source": [
    "sjn = pd.read_csv('Search Approach/Arabic/EgyptianArabicSearchTweetsجنوب سيناء.csv', index=False)\n",
    "sjn.drop(['quote_url','source','user_rt_id','user_rt','retweet_id','retweet_date','translate','trans_src','trans_dest','id', 'conversation_id', 'created_at', 'timezone', 'user_id', 'photos', 'cashtags', 'link', 'retweet', 'video','mentions','reply_to'], axis=1, inplace=True)\n",
    "sjn['governorate'] = 'South Sinai'\n",
    "sjn.to_csv('Search Approach/Arabic/EgyptianArabicSearchTweetsجنوب سيناء.csv', index_col=False)"
   ]
  },
  {
   "cell_type": "code",
   "execution_count": 182,
   "metadata": {},
   "outputs": [],
   "source": [
    "dmy = pd.read_csv('Search Approach/Arabic/EgyptianArabicSearchTweetsدمياط.csv', index=False)\n",
    "dmy.drop(['quote_url','source','user_rt_id','user_rt','retweet_id','retweet_date','translate','trans_src','trans_dest','id', 'conversation_id', 'created_at', 'timezone', 'user_id', 'photos', 'cashtags', 'link', 'retweet', 'video','mentions','reply_to'], axis=1, inplace=True)\n",
    "dmy['governorate'] = 'Damietta'\n",
    "dmy.to_csv('Search Approach/Arabic/EgyptianArabicSearchTweetsدمياط.csv', index_col=False)"
   ]
  },
  {
   "cell_type": "code",
   "execution_count": 187,
   "metadata": {},
   "outputs": [],
   "source": [
    "swj = pd.read_csv('Search Approach/Arabic/EgyptianArabicSearchTweetsسوهاج.csv', index=False)\n",
    "swj.drop(['quote_url','source','user_rt_id','user_rt','retweet_id','retweet_date','translate','trans_src','trans_dest','id', 'conversation_id', 'created_at', 'timezone', 'user_id', 'photos', 'cashtags', 'link', 'retweet', 'video','mentions','reply_to'], axis=1, inplace=True)\n",
    "swj['governorate'] = 'Sohag'\n",
    "swj.to_csv('Search Approach/Arabic/EgyptianArabicSearchTweetsسوهاج.csv', index_col=False)"
   ]
  },
  {
   "cell_type": "code",
   "execution_count": 192,
   "metadata": {},
   "outputs": [],
   "source": [
    "ssh = pd.read_csv('Search Approach/Arabic/EgyptianArabicSearchTweetsشمال سيناء.csv', index=False)\n",
    "ssh.drop(['quote_url','source','user_rt_id','user_rt','retweet_id','retweet_date','translate','trans_src','trans_dest','id', 'conversation_id', 'created_at', 'timezone', 'user_id', 'photos', 'cashtags', 'link', 'retweet', 'video','mentions','reply_to'], axis=1, inplace=True)\n",
    "ssh['governorate'] = 'North Sinai'\n",
    "ssh.to_csv('Search Approach/Arabic/EgyptianArabicSearchTweetsشمال سيناء.csv', index_col=False)"
   ]
  },
  {
   "cell_type": "code",
   "execution_count": 197,
   "metadata": {},
   "outputs": [],
   "source": [
    "ghr = pd.read_csv('Search Approach/Arabic/EgyptianArabicSearchTweetsطنطا.csv', index=False)\n",
    "ghr.drop(['quote_url','source','user_rt_id','user_rt','retweet_id','retweet_date','translate','trans_src','trans_dest','id', 'conversation_id', 'created_at', 'timezone', 'user_id', 'photos', 'cashtags', 'link', 'retweet', 'video','mentions','reply_to'], axis=1, inplace=True)\n",
    "ghr['governorate'] = 'Gharbia'\n",
    "ghr.to_csv('Search Approach/Arabic/EgyptianArabicSearchTweetsطنطا.csv', index_col=False)"
   ]
  },
  {
   "cell_type": "code",
   "execution_count": 202,
   "metadata": {},
   "outputs": [],
   "source": [
    "ksh = pd.read_csv('Search Approach/Arabic/EgyptianArabicSearchTweetsكفر الشيخ.csv', index=False)\n",
    "ksh.drop(['quote_url','source','user_rt_id','user_rt','retweet_id','retweet_date','translate','trans_src','trans_dest','id', 'conversation_id', 'created_at', 'timezone', 'user_id', 'photos', 'cashtags', 'link', 'retweet', 'video','mentions','reply_to'], axis=1, inplace=True)\n",
    "ksh['governorate'] = 'Kafr el-Sheikh'\n",
    "ksh.to_csv('Search Approach/Arabic/EgyptianArabicSearchTweetsكفر الشيخ.csv', index_col=False)"
   ]
  },
  {
   "cell_type": "code",
   "execution_count": 207,
   "metadata": {},
   "outputs": [],
   "source": [
    "qna = pd.read_csv('Search Approach/Arabic/EgyptianArabicSearchTweetsمحافظة قنا.csv', index=False)\n",
    "qna.drop(['quote_url','source','user_rt_id','user_rt','retweet_id','retweet_date','translate','trans_src','trans_dest','id', 'conversation_id', 'created_at', 'timezone', 'user_id', 'photos', 'cashtags', 'link', 'retweet', 'video','mentions','reply_to'], axis=1, inplace=True)\n",
    "qna['governorate'] = 'Qena'\n",
    "qna.to_csv('Search Approach/Arabic/EgyptianArabicSearchTweetsمحافظة قنا.csv', index_col=False)"
   ]
  },
  {
   "cell_type": "code",
   "execution_count": 212,
   "metadata": {},
   "outputs": [],
   "source": [
    "mtr = pd.read_csv('Search Approach/Arabic/EgyptianArabicSearchTweetsمرسى مطروح.csv', index=False)\n",
    "mtr.drop(['quote_url','source','user_rt_id','user_rt','retweet_id','retweet_date','translate','trans_src','trans_dest','id', 'conversation_id', 'created_at', 'timezone', 'user_id', 'photos', 'cashtags', 'link', 'retweet', 'video','mentions','reply_to'], axis=1, inplace=True)\n",
    "mtr['governorate'] = 'Matrouh'\n",
    "mtr.to_csv('Search Approach/Arabic/EgyptianArabicSearchTweetsمرسى مطروح.csv', index_col=False)"
   ]
  },
  {
   "cell_type": "code",
   "execution_count": 216,
   "metadata": {},
   "outputs": [],
   "source": [
    "arabic_search_tweets = pd.concat([asw,asy,isk,ism,uqs,bah,bhr,jiz,dqh,sha,sws,fym,qah,qly,mnf,mny,wjd,bsw,bsd,sjn,dmy,swj,ssh,ghr,ksh,qna,mtr])"
   ]
  },
  {
   "cell_type": "code",
   "execution_count": 217,
   "metadata": {},
   "outputs": [],
   "source": [
    "arabic_search_tweets.to_csv('Search Approach/Arabic/EgyptianArabicSearchTweets.csv')"
   ]
  },
  {
   "cell_type": "code",
   "execution_count": null,
   "metadata": {},
   "outputs": [],
   "source": []
  }
 ],
 "metadata": {
  "kernelspec": {
   "display_name": "Python 3",
   "language": "python",
   "name": "python3"
  },
  "language_info": {
   "codemirror_mode": {
    "name": "ipython",
    "version": 3
   },
   "file_extension": ".py",
   "mimetype": "text/x-python",
   "name": "python",
   "nbconvert_exporter": "python",
   "pygments_lexer": "ipython3",
   "version": "3.7.6"
  }
 },
 "nbformat": 4,
 "nbformat_minor": 4
}
