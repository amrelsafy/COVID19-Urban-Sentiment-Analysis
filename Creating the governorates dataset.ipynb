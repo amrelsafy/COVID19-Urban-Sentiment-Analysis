{
 "cells": [
  {
   "cell_type": "code",
   "execution_count": null,
   "metadata": {},
   "outputs": [],
   "source": [
    "import pandas as pd"
   ]
  },
  {
   "cell_type": "code",
   "execution_count": null,
   "metadata": {},
   "outputs": [],
   "source": [
    "governorates = pd.read_html('https://www.citypopulation.de/en/egypt/cities/')"
   ]
  },
  {
   "cell_type": "code",
   "execution_count": null,
   "metadata": {},
   "outputs": [],
   "source": [
    "governorates = governorates[0]"
   ]
  },
  {
   "cell_type": "code",
   "execution_count": null,
   "metadata": {},
   "outputs": [],
   "source": [
    "# governorates.drop('Unnamed: 0',axis=1, inplace=True)"
   ]
  },
  {
   "cell_type": "code",
   "execution_count": null,
   "metadata": {},
   "outputs": [],
   "source": [
    "def gov_name(name):\n",
    "    if name == 'Aswān':\n",
    "        return 'Aswan'\n",
    "    elif name == 'Asyūt':\n",
    "        return 'Asyut'\n",
    "    elif name == 'Egypt':\n",
    "        return 'Egypt'\n",
    "    elif name == 'Al-Minyā':\n",
    "        return 'Al-Minya'\n",
    "    name = name.split('[')[1][:-1]\n",
    "    return name"
   ]
  },
  {
   "cell_type": "code",
   "execution_count": null,
   "metadata": {},
   "outputs": [],
   "source": [
    "governorates['Name'] = governorates['Name'].apply(gov_name)"
   ]
  },
  {
   "cell_type": "code",
   "execution_count": null,
   "metadata": {},
   "outputs": [],
   "source": [
    "governorates['Name'][6] = 'Ismailia'"
   ]
  },
  {
   "cell_type": "code",
   "execution_count": null,
   "metadata": {},
   "outputs": [],
   "source": [
    "governorates.drop(['Unnamed: 11','Unnamed: 12', 'PopulationEstimate (E)2018-07-01', 'PopulationCensus (Cf)2006-11-11', 'PopulationCensus (Cf)1996-11-19', 'PopulationCensus (Cp)1986-11-17'], axis=1, inplace=True)"
   ]
  },
  {
   "cell_type": "code",
   "execution_count": null,
   "metadata": {},
   "outputs": [],
   "source": [
    "governorates.rename(columns={'AreaA (km²)': 'Area', 'PopulationCensus (Cf)2017-03-28': 'Population'}, inplace=True)"
   ]
  },
  {
   "cell_type": "code",
   "execution_count": null,
   "metadata": {},
   "outputs": [],
   "source": [
    "governorates['Density'] = governorates['Population'] / governorates['Area']"
   ]
  },
  {
   "cell_type": "code",
   "execution_count": null,
   "metadata": {},
   "outputs": [],
   "source": [
    "gov2 = pd.read_html('https://en.wikipedia.org/wiki/Governorates_of_Egypt')"
   ]
  },
  {
   "cell_type": "code",
   "execution_count": null,
   "metadata": {},
   "outputs": [],
   "source": [
    "gov2 = gov2[2]"
   ]
  },
  {
   "cell_type": "code",
   "execution_count": null,
   "metadata": {},
   "outputs": [],
   "source": [
    "gov2.rename(columns={'Governorate': 'Name'}, inplace=True)"
   ]
  },
  {
   "cell_type": "code",
   "execution_count": null,
   "metadata": {},
   "outputs": [],
   "source": [
    "gov2['Name'][4] = 'Fayoum'\n",
    "gov2['Name'][9] = 'Al-Minya'\n",
    "gov2['Name'][21] = 'Kafr el-Sheikh'\n",
    "gov2['Name'][22] = 'Matrouh'"
   ]
  },
  {
   "cell_type": "code",
   "execution_count": null,
   "metadata": {},
   "outputs": [],
   "source": [
    "governorates = pd.merge(governorates,gov2,on=['Name'])"
   ]
  },
  {
   "cell_type": "code",
   "execution_count": null,
   "metadata": {},
   "outputs": [],
   "source": [
    "governorates.drop(['Population (2016)', 'Rural', 'Urban'], axis=1, inplace=True)"
   ]
  },
  {
   "cell_type": "code",
   "execution_count": null,
   "metadata": {},
   "outputs": [],
   "source": [
    "gov3 = pd.read_csv('GovsLatitudeAndLongitude.csv')"
   ]
  },
  {
   "cell_type": "code",
   "execution_count": null,
   "metadata": {},
   "outputs": [],
   "source": [
    "gov3.rename(columns={'city': 'Name'}, inplace=True)"
   ]
  },
  {
   "cell_type": "code",
   "execution_count": null,
   "metadata": {},
   "outputs": [],
   "source": [
    "gov3['Name'][2] = 'Giza'\n",
    "gov3['Name'][6] = 'Sohag'\n",
    "gov3['Name'][7] = 'Dakahlia'\n",
    "gov3['Name'][9] = 'Al-Minya'\n",
    "gov3['Name'][10] = 'Beheira'\n",
    "gov3['Name'][11] = 'Beni Suef'\n",
    "gov3['Name'][12] = 'Asyut'\n",
    "gov3['Name'][13] = 'Gharbia'\n",
    "gov3['Name'][14] = 'Fayoum'\n",
    "gov3['Name'][15] = 'Aswan'\n",
    "gov3['Name'][16] = 'Qena'\n",
    "gov3['Name'][18] = 'North Sinai'\n",
    "gov3['Name'][19] = 'Qalyubia'\n",
    "gov3['Name'][21] = 'Kafr el-Sheikh'\n",
    "gov3['Name'][23] = 'Matrouh'\n",
    "gov3['Name'][26] = 'New Valley'\n",
    "gov3['Name'][27] = 'Red Sea'\n",
    "gov3['Name'][28] = 'South Sinai'\n",
    "gov3['Name'][42] = 'Sharqia'"
   ]
  },
  {
   "cell_type": "code",
   "execution_count": null,
   "metadata": {},
   "outputs": [],
   "source": [
    "gov3 = gov3.append({'Name': 'Monufia', 'lat': '30.5972', 'lng':'30.9876'}, ignore_index=True)"
   ]
  },
  {
   "cell_type": "code",
   "execution_count": null,
   "metadata": {},
   "outputs": [],
   "source": [
    "governorates = pd.merge(governorates,gov3,on=['Name'])"
   ]
  },
  {
   "cell_type": "code",
   "execution_count": null,
   "metadata": {},
   "outputs": [],
   "source": [
    "governorates.drop(['country', 'iso2', 'admin', 'capital', 'population', 'population_proper'], axis=1, inplace=True)"
   ]
  },
  {
   "cell_type": "code",
   "execution_count": null,
   "metadata": {},
   "outputs": [],
   "source": [
    "import math"
   ]
  },
  {
   "cell_type": "code",
   "execution_count": null,
   "metadata": {},
   "outputs": [],
   "source": [
    "governorates['Urban Population'] = (governorates['Population'] * governorates['% Urban'])/100\n",
    "governorates['Urban Population'] = governorates['Urban Population'].apply(math.floor)"
   ]
  },
  {
   "cell_type": "code",
   "execution_count": null,
   "metadata": {},
   "outputs": [],
   "source": [
    "governorates['Radius'] = (governorates['Area']/math.pi).apply(math.sqrt)"
   ]
  },
  {
   "cell_type": "code",
   "execution_count": null,
   "metadata": {},
   "outputs": [],
   "source": [
    "governorates.to_csv('Governorates.csv', index=False)"
   ]
  }
 ],
 "metadata": {
  "kernelspec": {
   "display_name": "Python 3",
   "language": "python",
   "name": "python3"
  },
  "language_info": {
   "codemirror_mode": {
    "name": "ipython",
    "version": 3
   },
   "file_extension": ".py",
   "mimetype": "text/x-python",
   "name": "python",
   "nbconvert_exporter": "python",
   "pygments_lexer": "ipython3",
   "version": "3.7.6"
  }
 },
 "nbformat": 4,
 "nbformat_minor": 4
}
