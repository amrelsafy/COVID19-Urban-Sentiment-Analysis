{
 "cells": [
  {
   "cell_type": "code",
   "execution_count": null,
   "metadata": {},
   "outputs": [],
   "source": [
    "from tashaphyne.stemming import ArabicLightStemmer\n",
    "import re\n",
    "import unicodedata as ud\n",
    "import string\n",
    "import emoji\n",
    "from nltk.corpus import stopwords"
   ]
  },
  {
   "cell_type": "code",
   "execution_count": null,
   "metadata": {},
   "outputs": [],
   "source": [
    "def give_emoji_free_text(text):\n",
    "    return emoji.get_emoji_regexp().sub(r'', text)"
   ]
  },
  {
   "cell_type": "code",
   "execution_count": null,
   "metadata": {},
   "outputs": [],
   "source": [
    "stopwords = stopwords.words('arabic')"
   ]
  },
  {
   "cell_type": "code",
   "execution_count": null,
   "metadata": {},
   "outputs": [],
   "source": [
    "def change_h(word):\n",
    "    if (word[-1] == 'ه'):\n",
    "            word = word[:-1] + 'ة'\n",
    "    return word"
   ]
  },
  {
   "cell_type": "code",
   "execution_count": null,
   "metadata": {},
   "outputs": [],
   "source": [
    "def normalize_tweet_ar(tweet):\n",
    "    tweet = tweet.split('\\n')\n",
    "    tweet = ' '.join(tweet)\n",
    "    \n",
    "    tweet = re.sub(r'''(?i)\\b((?:https?://|www\\d{0,3}[.]|[a-z0-9.\\-]+[.][a-z]{2,4}/)(?:[^\\s()<>]+|\\(([^\\s()<>]+|(\\([^\\s()<>]+\\)))*\\))+(?:\\(([^\\s()<>]+|(\\([^\\s()<>]+\\)))*\\)|[^\\s`!()\\[\\]{};:'\".,<>?«»“”‘’]))''','',tweet)\n",
    "    tweet = re.sub(r\"\\xa0\", \"\", tweet)   \n",
    "    \n",
    "    tweet = ''.join([char for char in tweet if not char.isdigit()])\n",
    "    \n",
    "    tweet = re.sub(r\"u'\\u064B'\", \"\", tweet)\n",
    "    tweet = re.sub(r\"u'\\u064C'\", \"\", tweet)\n",
    "    tweet = re.sub(r\"u'\\u064D'\", \"\", tweet)\n",
    "    tweet = re.sub(r\"u'\\u064E'\", \"\", tweet)\n",
    "    tweet = re.sub(r\"u'\\u064F'\", \"\", tweet)\n",
    "    tweet = re.sub(r\"u'\\u0650'\", \"\", tweet)\n",
    "    tweet = re.sub(r\"u'\\u08F0'\", \"\", tweet)\n",
    "    tweet = re.sub(r\"u'\\u08F1'\", \"\", tweet)\n",
    "    tweet = re.sub(r\"u'\\u08F2'\", \"\", tweet)\n",
    "    \n",
    "    tweet = re.sub(r'[a-zA-Z]+',\"\",tweet)\n",
    "    \n",
    "    tweet = re.sub(r'(.)\\1+', r'\\1\\1', tweet)\n",
    "    \n",
    "    tweet = re.sub(r\"_\", \" \", tweet)\n",
    "    \n",
    "    tweet = ''.join(c for c in tweet if not ud.category(c).startswith('P'))\n",
    "    \n",
    "    tweet = give_emoji_free_text(tweet)\n",
    "    \n",
    "    tweet = ''.join([char for char in tweet if not char in string.punctuation])\n",
    "    \n",
    "   # tweet = re.sub(r\"ئ\", 'ء',tweet)\n",
    "   # tweet = re.sub(r\"ؤ\", \"ء\", tweet)\n",
    "    \n",
    "    tweet = re.sub(r\"إ\", \"ا\", tweet)\n",
    "    tweet = re.sub(r\"أ\", \"ا\", tweet)\n",
    "    tweet = re.sub(r\"آ\", \"ا\", tweet)\n",
    "        \n",
    "    tweet = re.sub(r\"ى\", \"ي\", tweet)\n",
    "    \n",
    "    tweet = ' '.join(list(map(change_h, tweet.split())))\n",
    "    \n",
    "    tweet = re.sub(r\"اللة\", \"الله\", tweet)\n",
    "    \n",
    "   # tweet = remove_stopwords(tweet)  \n",
    "    \n",
    "    return tweet"
   ]
  },
  {
   "cell_type": "code",
   "execution_count": null,
   "metadata": {},
   "outputs": [],
   "source": [
    "list(map(normalize_tweet_ar,stopwords))"
   ]
  },
  {
   "cell_type": "code",
   "execution_count": null,
   "metadata": {},
   "outputs": [],
   "source": [
    "def remove_stopwords(tweet):\n",
    "    tweet = ' '.join([word for word in tweet.split() if word not in stopwords_normal])\n",
    "    return tweet"
   ]
  },
  {
   "cell_type": "code",
   "execution_count": null,
   "metadata": {},
   "outputs": [],
   "source": [
    "def normalize_tweet_ar(tweet):\n",
    "    tweet = tweet.split('\\n')\n",
    "    tweet = ' '.join(tweet)\n",
    "    \n",
    "    tweet = re.sub(r'''(?i)\\b((?:https?://|www\\d{0,3}[.]|[a-z0-9.\\-]+[.][a-z]{2,4}/)(?:[^\\s()<>]+|\\(([^\\s()<>]+|(\\([^\\s()<>]+\\)))*\\))+(?:\\(([^\\s()<>]+|(\\([^\\s()<>]+\\)))*\\)|[^\\s`!()\\[\\]{};:'\".,<>?«»“”‘’]))''','',tweet)\n",
    "    tweet = re.sub(r\"\\xa0\", \"\", tweet)   \n",
    "    \n",
    "    tweet = ''.join([char for char in tweet if not char.isdigit()])\n",
    "    \n",
    "    tweet = re.sub(r\"u'\\u064B'\", \"\", tweet)\n",
    "    tweet = re.sub(r\"u'\\u064C'\", \"\", tweet)\n",
    "    tweet = re.sub(r\"u'\\u064D'\", \"\", tweet)\n",
    "    tweet = re.sub(r\"u'\\u064E'\", \"\", tweet)\n",
    "    tweet = re.sub(r\"u'\\u064F'\", \"\", tweet)\n",
    "    tweet = re.sub(r\"u'\\u0650'\", \"\", tweet)\n",
    "    tweet = re.sub(r\"u'\\u08F0'\", \"\", tweet)\n",
    "    tweet = re.sub(r\"u'\\u08F1'\", \"\", tweet)\n",
    "    tweet = re.sub(r\"u'\\u08F2'\", \"\", tweet)\n",
    "    \n",
    "    tweet = re.sub(r'[a-zA-Z]+',\"\",tweet)\n",
    "    \n",
    "    tweet = re.sub(r'(.)\\1+', r'\\1\\1', tweet)\n",
    "    \n",
    "    tweet = re.sub(r\"_\", \" \", tweet)\n",
    "    \n",
    "    tweet = ''.join(c for c in tweet if not ud.category(c).startswith('P'))\n",
    "    \n",
    "    tweet = give_emoji_free_text(tweet)\n",
    "    \n",
    "    tweet = ''.join([char for char in tweet if not char in string.punctuation])\n",
    "    \n",
    "   # tweet = re.sub(r\"ئ\", 'ء',tweet)\n",
    "   # tweet = re.sub(r\"ؤ\", \"ء\", tweet)\n",
    "    \n",
    "    tweet = re.sub(r\"إ\", \"ا\", tweet)\n",
    "    tweet = re.sub(r\"أ\", \"ا\", tweet)\n",
    "    tweet = re.sub(r\"آ\", \"ا\", tweet)\n",
    "        \n",
    "    tweet = re.sub(r\"ى\", \"ي\", tweet)\n",
    "    \n",
    "    tweet = ' '.join(list(map(change_h, tweet.split())))\n",
    "    \n",
    "    tweet = re.sub(r\"اللة\", \"الله\", tweet)\n",
    "    \n",
    "    tweet = remove_stopwords(tweet)  \n",
    "    \n",
    "    return tweet"
   ]
  },
  {
   "cell_type": "code",
   "execution_count": null,
   "metadata": {},
   "outputs": [],
   "source": [
    "def stem_tweet(tweet):\n",
    "    ArListem = ArabicLightStemmer()\n",
    "    tweet = ' '.join(list(map(ArListem.light_stem,tweet.split())))\n",
    "    return tweet"
   ]
  },
  {
   "cell_type": "code",
   "execution_count": null,
   "metadata": {},
   "outputs": [],
   "source": [
    "def normalize_stem_tweet_ar(tweet):\n",
    "    tweet = tweet.split('\\n')\n",
    "    tweet = ' '.join(tweet)\n",
    "    \n",
    "    tweet = re.sub(r'''(?i)\\b((?:https?://|www\\d{0,3}[.]|[a-z0-9.\\-]+[.][a-z]{2,4}/)(?:[^\\s()<>]+|\\(([^\\s()<>]+|(\\([^\\s()<>]+\\)))*\\))+(?:\\(([^\\s()<>]+|(\\([^\\s()<>]+\\)))*\\)|[^\\s`!()\\[\\]{};:'\".,<>?«»“”‘’]))''','',tweet)\n",
    "    tweet = re.sub(r\"\\xa0\", \"\", tweet)   \n",
    "    \n",
    "    tweet = ''.join([char for char in tweet if not char.isdigit()])\n",
    "    \n",
    "    tweet = re.sub(r\"u'\\u064B'\", \"\", tweet)\n",
    "    tweet = re.sub(r\"u'\\u064C'\", \"\", tweet)\n",
    "    tweet = re.sub(r\"u'\\u064D'\", \"\", tweet)\n",
    "    tweet = re.sub(r\"u'\\u064E'\", \"\", tweet)\n",
    "    tweet = re.sub(r\"u'\\u064F'\", \"\", tweet)\n",
    "    tweet = re.sub(r\"u'\\u0650'\", \"\", tweet)\n",
    "    tweet = re.sub(r\"u'\\u08F0'\", \"\", tweet)\n",
    "    tweet = re.sub(r\"u'\\u08F1'\", \"\", tweet)\n",
    "    tweet = re.sub(r\"u'\\u08F2'\", \"\", tweet)\n",
    "    \n",
    "    tweet = re.sub(r'[a-zA-Z]+',\"\",tweet)\n",
    "    \n",
    "    tweet = re.sub(r'(.)\\1+', r'\\1\\1', tweet)\n",
    "    \n",
    "    tweet = re.sub(r\"_\", \" \", tweet)\n",
    "    \n",
    "    tweet = ''.join(c for c in tweet if not ud.category(c).startswith('P'))\n",
    "    \n",
    "    tweet = give_emoji_free_text(tweet)\n",
    "    \n",
    "    tweet = ''.join([char for char in tweet if not char in string.punctuation])\n",
    "    \n",
    "    #tweet = re.sub(r\"ئ\", 'ء',tweet)\n",
    "    #tweet = re.sub(r\"ؤ\", \"ء\", tweet)\n",
    "    \n",
    "    tweet = stem_tweet(tweet)\n",
    "    \n",
    "    tweet = re.sub(r\"إ\", \"ا\", tweet)\n",
    "    tweet = re.sub(r\"أ\", \"ا\", tweet)\n",
    "    tweet = re.sub(r\"آ\", \"ا\", tweet)\n",
    "        \n",
    "    tweet = re.sub(r\"ى\", \"ي\", tweet)\n",
    "    \n",
    "    tweet = ' '.join(list(map(change_h, tweet.split())))\n",
    "    \n",
    "    tweet = re.sub(r\"اللة\", \"الله\", tweet)\n",
    "    \n",
    "    tweet = remove_stopwords(tweet)  \n",
    "    \n",
    "    return tweet"
   ]
  },
  {
   "cell_type": "code",
   "execution_count": null,
   "metadata": {},
   "outputs": [],
   "source": [
    "training_data = pd.read_csv('../../dataset/arabic tweets/astd-artwitter.csv')"
   ]
  },
  {
   "cell_type": "code",
   "execution_count": null,
   "metadata": {},
   "outputs": [],
   "source": [
    "training_data['normal_tweet'] = training_data['txt'].apply(normalize_tweet_ar)"
   ]
  },
  {
   "cell_type": "code",
   "execution_count": null,
   "metadata": {},
   "outputs": [],
   "source": [
    "training_data['stem_tweet'] = training_data['txt'].apply(normalize_stem_tweet_ar)"
   ]
  },
  {
   "cell_type": "code",
   "execution_count": null,
   "metadata": {},
   "outputs": [],
   "source": [
    "from sklearn.model_selection import train_test_split"
   ]
  },
  {
   "cell_type": "code",
   "execution_count": null,
   "metadata": {},
   "outputs": [],
   "source": [
    "#X_train, X_test, y_train, y_test = train_test_split(training_data['txt'], training_data['sentiment'], test_size=0.2, random_state=101)\n",
    "#X_train, X_test, y_train, y_test = train_test_split(training_data['normal_tweet'], training_data['sentiment'], test_size=0.2, random_state=101)\n",
    "X_train, X_test, y_train, y_test = train_test_split(training_data['stem_tweet'], training_data['sentiment'], test_size=0.2, random_state=101)"
   ]
  },
  {
   "cell_type": "code",
   "execution_count": null,
   "metadata": {},
   "outputs": [],
   "source": [
    "from sklearn.pipeline import Pipeline\n",
    "from sklearn.feature_extraction.text import CountVectorizer,TfidfTransformer\n",
    "from sklearn.svm import LinearSVC\n",
    "from sklearn.naive_bayes import MultinomialNB"
   ]
  },
  {
   "cell_type": "code",
   "execution_count": null,
   "metadata": {},
   "outputs": [],
   "source": [
    "pipeline = Pipeline([\n",
    "    ('bow', CountVectorizer(ngram_range=(1,2))),\n",
    "    ('tfidf', TfidfTransformer()),\n",
    "    ('classifier', MultinomialNB())\n",
    "])\n",
    "'''\n",
    "pipeline = Pipeline([\n",
    "    ('bow', CountVectorizer()),\n",
    "    ('tfidf', TfidfTransformer()),\n",
    "    ('classifier', MultinomialNB())\n",
    "])\n",
    "\n",
    "pipeline = Pipeline([\n",
    "    ('bow', CountVectorizer()),\n",
    "    ('tfidf', TfidfTransformer()),\n",
    "    ('classifier', LinearSVC())\n",
    "])\n",
    "\n",
    "pipeline = Pipeline([\n",
    "    ('bow', CountVectorizer(ngram_range=(1,2))),\n",
    "    ('tfidf', TfidfTransformer()),\n",
    "    ('classifier', LinearSVC())\n",
    "])\n",
    "\n",
    "pipeline = Pipeline([\n",
    "    ('bow', CountVectorizer(ngram_range=(1,3))),\n",
    "    ('tfidf', TfidfTransformer()),\n",
    "    ('classifier', MultinomialNB())\n",
    "])\n",
    "\n",
    "pipeline = Pipeline([\n",
    "    ('bow', CountVectorizer(ngram_range=(1,3))),\n",
    "    ('tfidf', TfidfTransformer()),\n",
    "    ('classifier', LinearSVC())\n",
    "])\n",
    "\n",
    "'''"
   ]
  },
  {
   "cell_type": "code",
   "execution_count": null,
   "metadata": {},
   "outputs": [],
   "source": [
    "pipeline.fit(X_train,y_train)"
   ]
  },
  {
   "cell_type": "code",
   "execution_count": null,
   "metadata": {},
   "outputs": [],
   "source": [
    "predictions = pipeline.predict(X_test)"
   ]
  }
 ],
 "metadata": {
  "kernelspec": {
   "display_name": "Python 3",
   "language": "python",
   "name": "python3"
  },
  "language_info": {
   "codemirror_mode": {
    "name": "ipython",
    "version": 3
   },
   "file_extension": ".py",
   "mimetype": "text/x-python",
   "name": "python",
   "nbconvert_exporter": "python",
   "pygments_lexer": "ipython3",
   "version": "3.7.6"
  }
 },
 "nbformat": 4,
 "nbformat_minor": 4
}
