{
 "cells": [
  {
   "cell_type": "code",
   "execution_count": 1,
   "metadata": {},
   "outputs": [],
   "source": [
    "import twint"
   ]
  },
  {
   "cell_type": "code",
   "execution_count": 2,
   "metadata": {},
   "outputs": [],
   "source": [
    "import nest_asyncio\n",
    "nest_asyncio.apply()"
   ]
  },
  {
   "cell_type": "code",
   "execution_count": 3,
   "metadata": {},
   "outputs": [],
   "source": [
    "import pandas as pd"
   ]
  },
  {
   "cell_type": "code",
   "execution_count": 71,
   "metadata": {},
   "outputs": [
    {
     "name": "stdout",
     "output_type": "stream",
     "text": [
      "[+] Finished: Successfully collected all 40009 users who follow @Byoussef.\n",
      "[+] Finished: Successfully collected all 40018 users who follow @amrkhaled.\n",
      "[+] Finished: Successfully collected all 40011 users who follow @ahelmy.\n"
     ]
    },
    {
     "name": "stderr",
     "output_type": "stream",
     "text": [
      "CRITICAL:root:twint.get:User:Cannot connect to host twitter.com:443 ssl:True [Connect call failed ('104.244.42.1', 443)]\n"
     ]
    },
    {
     "name": "stdout",
     "output_type": "stream",
     "text": [
      "[+] Finished: Successfully collected all 40014 users who follow @yasminesabri.\n",
      "[+] Finished: Successfully collected all 40013 users who follow @ElSherif.\n"
     ]
    }
   ],
   "source": [
    "egMostPopular = ['MoSalah','Byoussef', 'amrkhaled', 'amrdiab', 'youm7','MustafaHosny','OfficialHenedy','HamzaNamira','ahelmy', 'yasminesabri', 'ElSherif']\n",
    "\n",
    "for item in egMostPopular:\n",
    "    c = twint.Config()\n",
    "    c.Username = item\n",
    "    c.Count = True\n",
    "    c.Store_csv = True\n",
    "    c.Output = 'Profile Info Approach/AllFollowers.csv'\n",
    "    c.Limit = 40000\n",
    "    c.Count = True\n",
    "    c.Hide_output = True\n",
    "    twint.run.Followers(c)"
   ]
  },
  {
   "cell_type": "code",
   "execution_count": 72,
   "metadata": {},
   "outputs": [],
   "source": [
    "followers = pd.read_csv('Profile Info Approach/AllFollowers.csv')"
   ]
  },
  {
   "cell_type": "code",
   "execution_count": 73,
   "metadata": {},
   "outputs": [
    {
     "data": {
      "text/html": [
       "<div>\n",
       "<style scoped>\n",
       "    .dataframe tbody tr th:only-of-type {\n",
       "        vertical-align: middle;\n",
       "    }\n",
       "\n",
       "    .dataframe tbody tr th {\n",
       "        vertical-align: top;\n",
       "    }\n",
       "\n",
       "    .dataframe thead th {\n",
       "        text-align: right;\n",
       "    }\n",
       "</style>\n",
       "<table border=\"1\" class=\"dataframe\">\n",
       "  <thead>\n",
       "    <tr style=\"text-align: right;\">\n",
       "      <th></th>\n",
       "      <th>username</th>\n",
       "    </tr>\n",
       "  </thead>\n",
       "  <tbody>\n",
       "    <tr>\n",
       "      <th>0</th>\n",
       "      <td>erwan59829939</td>\n",
       "    </tr>\n",
       "    <tr>\n",
       "      <th>1</th>\n",
       "      <td>sytzmgrllnsxvtc</td>\n",
       "    </tr>\n",
       "    <tr>\n",
       "      <th>2</th>\n",
       "      <td>ali55475667</td>\n",
       "    </tr>\n",
       "    <tr>\n",
       "      <th>3</th>\n",
       "      <td>vtkugc5a6f9zmrw</td>\n",
       "    </tr>\n",
       "    <tr>\n",
       "      <th>4</th>\n",
       "      <td>wo6sgbu8iyadkmr</td>\n",
       "    </tr>\n",
       "    <tr>\n",
       "      <th>...</th>\n",
       "      <td>...</td>\n",
       "    </tr>\n",
       "    <tr>\n",
       "      <th>279237</th>\n",
       "      <td>mosta36669517</td>\n",
       "    </tr>\n",
       "    <tr>\n",
       "      <th>279238</th>\n",
       "      <td>mohamed21130288</td>\n",
       "    </tr>\n",
       "    <tr>\n",
       "      <th>279239</th>\n",
       "      <td>ujoogiyfhbvjy25</td>\n",
       "    </tr>\n",
       "    <tr>\n",
       "      <th>279240</th>\n",
       "      <td>haneena07890735</td>\n",
       "    </tr>\n",
       "    <tr>\n",
       "      <th>279241</th>\n",
       "      <td>amgdetye</td>\n",
       "    </tr>\n",
       "  </tbody>\n",
       "</table>\n",
       "<p>279242 rows × 1 columns</p>\n",
       "</div>"
      ],
      "text/plain": [
       "               username\n",
       "0         erwan59829939\n",
       "1       sytzmgrllnsxvtc\n",
       "2           ali55475667\n",
       "3       vtkugc5a6f9zmrw\n",
       "4       wo6sgbu8iyadkmr\n",
       "...                 ...\n",
       "279237    mosta36669517\n",
       "279238  mohamed21130288\n",
       "279239  ujoogiyfhbvjy25\n",
       "279240  haneena07890735\n",
       "279241         amgdetye\n",
       "\n",
       "[279242 rows x 1 columns]"
      ]
     },
     "execution_count": 73,
     "metadata": {},
     "output_type": "execute_result"
    }
   ],
   "source": [
    "unique_followers = pd.DataFrame(followers['username'].unique(), columns=['username'])\n",
    "unique_followers"
   ]
  },
  {
   "cell_type": "code",
   "execution_count": 74,
   "metadata": {},
   "outputs": [],
   "source": [
    "def get_followers_info(username):\n",
    "    d = twint.Config()\n",
    "    d.Username = username\n",
    "    d.Store_csv = True\n",
    "    d.Output = 'Followers_info.csv'\n",
    "    twint.run.Lookup(d)"
   ]
  },
  {
   "cell_type": "code",
   "execution_count": null,
   "metadata": {},
   "outputs": [],
   "source": [
    "unique_followers['username'].apply(get_followers_info)"
   ]
  },
  {
   "cell_type": "code",
   "execution_count": 76,
   "metadata": {},
   "outputs": [
    {
     "name": "stdout",
     "output_type": "stream",
     "text": [
      "<class 'pandas.core.frame.DataFrame'>\n",
      "RangeIndex: 26326 entries, 0 to 26325\n",
      "Data columns (total 17 columns):\n",
      " #   Column             Non-Null Count  Dtype \n",
      "---  ------             --------------  ----- \n",
      " 0   id                 26326 non-null  int64 \n",
      " 1   name               26326 non-null  object\n",
      " 2   username           26326 non-null  object\n",
      " 3   bio                15124 non-null  object\n",
      " 4   location           2804 non-null   object\n",
      " 5   url                620 non-null    object\n",
      " 6   join_date          26326 non-null  object\n",
      " 7   join_time          26326 non-null  object\n",
      " 8   tweets             26326 non-null  int64 \n",
      " 9   following          26326 non-null  int64 \n",
      " 10  followers          26326 non-null  int64 \n",
      " 11  likes              26326 non-null  int64 \n",
      " 12  media              26326 non-null  int64 \n",
      " 13  private            26326 non-null  int64 \n",
      " 14  verified           26326 non-null  int64 \n",
      " 15  profile_image_url  26326 non-null  object\n",
      " 16  background_image   6616 non-null   object\n",
      "dtypes: int64(8), object(9)\n",
      "memory usage: 3.4+ MB\n"
     ]
    }
   ],
   "source": [
    "unique_followers_info = pd.read_csv('Profile Info Approach/UniqueFollowersInfo.csv')\n",
    "unique_followers_info.info()"
   ]
  },
  {
   "cell_type": "code",
   "execution_count": 6,
   "metadata": {},
   "outputs": [],
   "source": [
    "import matplotlib.pyplot as plt\n",
    "import seaborn as sns\n",
    "%matplotlib inline"
   ]
  },
  {
   "cell_type": "code",
   "execution_count": 45,
   "metadata": {},
   "outputs": [
    {
     "data": {
      "text/plain": [
       "<matplotlib.axes._subplots.AxesSubplot at 0x27178073c48>"
      ]
     },
     "execution_count": 45,
     "metadata": {},
     "output_type": "execute_result"
    },
    {
     "data": {
      "image/png": "[encoded data removed]",
      "text/plain": [
       "<Figure size 1008x576 with 2 Axes>"
      ]
     },
     "metadata": {
      "needs_background": "light"
     },
     "output_type": "display_data"
    }
   ],
   "source": [
    "plt.figure(figsize=(14,8))\n",
    "sns.heatmap(unique_followers_info.isnull(), yticklabels=False, cbar_kws=dict(label='Data present or missing'))"
   ]
  },
  {
   "cell_type": "code",
   "execution_count": null,
   "metadata": {},
   "outputs": [],
   "source": [
    "public_followers_info = unique_followers_info[unique_followers_info['private'] == 0]\n",
    "public_followers_info.info()"
   ]
  },
  {
   "cell_type": "code",
   "execution_count": null,
   "metadata": {},
   "outputs": [],
   "source": [
    "public_followers_info.to_csv('Profile Info Approach/PublicUniqueFollowers.csv')"
   ]
  },
  {
   "cell_type": "code",
   "execution_count": null,
   "metadata": {},
   "outputs": [],
   "source": [
    "tweeted_followers_info = public_followers_info[public_followers_info['tweets'] > 0]\n",
    "tweeted_followers_info.info()"
   ]
  },
  {
   "cell_type": "code",
   "execution_count": null,
   "metadata": {},
   "outputs": [],
   "source": [
    "tweeted_followers_info.to_csv('Profile Info Approach/TweetedPublicUniqueFollowers.csv')"
   ]
  },
  {
   "cell_type": "code",
   "execution_count": null,
   "metadata": {},
   "outputs": [],
   "source": [
    "from datetime import datetime"
   ]
  },
  {
   "cell_type": "code",
   "execution_count": null,
   "metadata": {},
   "outputs": [],
   "source": [
    "deadline = datetime.strptime('23 Mar 2020', '%d %b %Y')"
   ]
  },
  {
   "cell_type": "code",
   "execution_count": null,
   "metadata": {},
   "outputs": [],
   "source": [
    "tweeted_followers_info['join_date'] = tweeted_followers_info['join_date'].apply(lambda x: datetime.strptime(x, '%d %b %Y'))"
   ]
  },
  {
   "cell_type": "code",
   "execution_count": null,
   "metadata": {},
   "outputs": [],
   "source": [
    "joined_ready_followers_info = tweeted_followers_info[tweeted_followers_info['join_date'] < deadline]\n",
    "joined_ready_followers_info.info()"
   ]
  },
  {
   "cell_type": "code",
   "execution_count": null,
   "metadata": {},
   "outputs": [],
   "source": [
    "bio_followers = joined_ready_followers_info[joined_ready_followers_info['bio'].notnull()]"
   ]
  },
  {
   "cell_type": "code",
   "execution_count": null,
   "metadata": {},
   "outputs": [],
   "source": [
    "location_followers = joined_ready_followers_info[joined_ready_followers_info['location'].notnull()]"
   ]
  },
  {
   "cell_type": "code",
   "execution_count": null,
   "metadata": {},
   "outputs": [],
   "source": [
    "location_bio_ready_followers = pd.concat([bio_followers,location_followers]).drop_duplicates().reset_index(drop=True)\n",
    "location_bio_ready_followers.info()"
   ]
  },
  {
   "cell_type": "code",
   "execution_count": null,
   "metadata": {},
   "outputs": [],
   "source": [
    "governorates = pd.read_csv('Governorates.csv')"
   ]
  },
  {
   "cell_type": "code",
   "execution_count": null,
   "metadata": {},
   "outputs": [],
   "source": [
    "gov_names_en = list(governorates['Name'])"
   ]
  },
  {
   "cell_type": "code",
   "execution_count": null,
   "metadata": {},
   "outputs": [],
   "source": [
    "gov_names_ar = list(governorates['Native'])"
   ]
  },
  {
   "cell_type": "code",
   "execution_count": null,
   "metadata": {},
   "outputs": [],
   "source": [
    "gov_names_en = list(map(lambda x: x.lower(), gov_names_en))"
   ]
  },
  {
   "cell_type": "code",
   "execution_count": null,
   "metadata": {},
   "outputs": [],
   "source": [
    "def gov_check(text):\n",
    "    found = 'Not Found'\n",
    "    found = gov_check_uni(text)\n",
    "    if found == 'Not Found':\n",
    "        found = gov_check_bi(text)\n",
    "    return found"
   ]
  },
  {
   "cell_type": "code",
   "execution_count": null,
   "metadata": {},
   "outputs": [],
   "source": [
    "def gov_check_uni(text):\n",
    "    text = str(text)\n",
    "    found = False\n",
    "    for word in text.lower().split():\n",
    "        for gov in gov_names_en:\n",
    "            if gov in word:\n",
    "                found = True\n",
    "                return gov\n",
    "        for gov in gov_names_ar:\n",
    "            if gov in word:\n",
    "                found = True\n",
    "                return gov\n",
    "    if found == False:\n",
    "        return 'Not Found'"
   ]
  },
  {
   "cell_type": "code",
   "execution_count": null,
   "metadata": {},
   "outputs": [],
   "source": [
    "def gov_check_bi(text):\n",
    "    text = str(text)\n",
    "    found = False\n",
    "    word_list = text.lower().split()\n",
    "    for i in range(1,len(word_list)):\n",
    "        current = word_list[i-1]\n",
    "        next = word_list[i]\n",
    "        word = ' '.join([current,next])\n",
    "        if word in gov_names_en:\n",
    "            found = True\n",
    "            return word\n",
    "        if word in gov_names_ar:\n",
    "            found = True\n",
    "            return word\n",
    "    if found == False:\n",
    "        return 'Not Found'"
   ]
  },
  {
   "cell_type": "code",
   "execution_count": null,
   "metadata": {},
   "outputs": [],
   "source": [
    "joined_ready_followers_info['governorate_loc'] = joined_ready_followers_info['location'].apply(gov_check)"
   ]
  },
  {
   "cell_type": "code",
   "execution_count": null,
   "metadata": {},
   "outputs": [],
   "source": [
    "joined_ready_followers_info['governorate_bio'] = joined_ready_followers_info['bio'].apply(gov_check)"
   ]
  },
  {
   "cell_type": "code",
   "execution_count": null,
   "metadata": {},
   "outputs": [],
   "source": [
    "gov_dct = {'الشرقية':'Sharqia', 'القاهرة':'Cairo', 'المنوفية':'Monufia', 'الدقهلية':'Dakahlia', 'السويس':'Suez', 'سوهاج':'Sohag', 'دمياط':'Damietta',\n",
    "          'الغربية':'Gharbia', 'القليوبية':'Qalyubia', 'الفيوم':'Fayoum', 'الجيزة':'Giza', 'أسوان':'Aswan', 'البحيرة':'Beheira', 'الإسماعيلية':'Ismailia', 'قنا':'Qena',\n",
    "          'أسيوط':'Asyut', 'المنيا':'Al-Minya', 'كفر الشيخ':'Kafr el-Sheikh', 'الإسكندرية':'Alexandria', 'الأقصر':'Luxor', 'بنى سويف':'Beni Suef', 'شمال سيناء':'North Sinai', \n",
    "           'Not Found':'Not Found', 'cairo':'Cairo', 'luxor':'Luxor', 'suez':'Suez', 'alexandria':'Alexandria', 'giza':'Giza',\n",
    "          'north sinai':'North Sinai', 'damietta':'Damietta', 'gharbia':'Gharbia', 'aswan':'Aswan', 'qena':'Qena', 'sohag':'Sohag',\n",
    "          'dakahlia':'Dakahlia', 'ismailia':'Ismailia', 'beni suef':'Beni Suef', 'sharqia': 'Sharqia', 'matrouh':'Matrouh', 'port said':'Port Said',\n",
    "          'asyut': 'Asyut','fayoum': 'Fayoum', 'red sea':'Red Sea', 'kafr el-sheikh':'Kafr el-Sheikh', 'qalyubia':'Qalyubia', 'south sinai': 'South Sinai'}"
   ]
  },
  {
   "cell_type": "code",
   "execution_count": null,
   "metadata": {},
   "outputs": [],
   "source": [
    "joined_ready_followers_info['governorate_loc'] = [gov_dct[x] for x in joined_ready_followers_info['governorate_loc']]"
   ]
  },
  {
   "cell_type": "code",
   "execution_count": null,
   "metadata": {},
   "outputs": [],
   "source": [
    "joined_ready_followers_info['governorate_bio'] = [gov_dct[x] for x in joined_ready_followers_info['governorate_bio']]"
   ]
  },
  {
   "cell_type": "code",
   "execution_count": null,
   "metadata": {},
   "outputs": [],
   "source": [
    "by_location = joined_ready_followers_info[joined_ready_followers_info['governorate_loc'] != 'Not Found']"
   ]
  },
  {
   "cell_type": "code",
   "execution_count": null,
   "metadata": {},
   "outputs": [],
   "source": [
    "by_bio = joined_ready_followers_info[joined_ready_followers_info['governorate_bio'] != 'Not Found']"
   ]
  },
  {
   "cell_type": "code",
   "execution_count": null,
   "metadata": {},
   "outputs": [],
   "source": [
    "location_bio_followers_info = pd.concat([by_location, by_bio]).drop_duplicates()"
   ]
  },
  {
   "cell_type": "code",
   "execution_count": null,
   "metadata": {},
   "outputs": [],
   "source": [
    "govs = []\n",
    "for i in range(0,len(location_bio_followers_info)):\n",
    "    row = location_bio_followers_info.iloc[i]\n",
    "    loc = row['governorate_loc']\n",
    "    if loc == 'Not Found':\n",
    "        loc = row['governorate_bio']\n",
    "    govs.append(loc)\n",
    "    \n",
    "location_bio_followers_info['governorate'] = govs"
   ]
  },
  {
   "cell_type": "code",
   "execution_count": null,
   "metadata": {},
   "outputs": [],
   "source": [
    "location_bio_followers_info.to_csv('Profile Info Approach/Governorated Followers Info.csv')"
   ]
  },
  {
   "cell_type": "code",
   "execution_count": null,
   "metadata": {},
   "outputs": [],
   "source": [
    "def profile_search(username):\n",
    "    d = twint.Config()\n",
    "    d.Since = \"2020-3-08\"\n",
    "    d.Until = \"2020-3-22\"\n",
    "    d.Lang = \"en\"\n",
    "    d.Store_csv = True\n",
    "    d.Username = username\n",
    "    d.Output = 'Profile Info Approach/EgyptianEnglishProfileInfoTweets.csv'\n",
    "    twint.run.Search(d)"
   ]
  },
  {
   "cell_type": "code",
   "execution_count": null,
   "metadata": {},
   "outputs": [],
   "source": [
    "location_bio_followers_info['username'].apply(profile_search)"
   ]
  },
  {
   "cell_type": "code",
   "execution_count": null,
   "metadata": {},
   "outputs": [],
   "source": [
    "english_profile_info_tweets = pd.read_csv('Profile Info Approach/EgyptianEnglishProfileInfoTweets.csv')\n",
    "\n",
    "english_profile_info_tweets.drop_duplicates(inplace=True)\n",
    "english_profile_info_tweets.reset_index(drop=True, inplace=True)\n",
    "english_profile_info_tweets.drop(['id', 'conversation_id', 'created_at', 'timezone', 'user_id', 'mentions', 'photos', 'cashtags', 'link', 'retweet', 'quote_url', 'video', 'source', 'user_rt_id', 'user_rt', 'retweet_id', 'reply_to', 'retweet_date', 'translate', 'trans_src', 'trans_dest'], axis=1, inplace=True)\n"
   ]
  },
  {
   "cell_type": "code",
   "execution_count": null,
   "metadata": {},
   "outputs": [],
   "source": [
    "username_gov = location_bio_followers_info[['username', 'governorate']]"
   ]
  },
  {
   "cell_type": "code",
   "execution_count": null,
   "metadata": {},
   "outputs": [],
   "source": [
    "username_gov['username'] = username_gov['username'].apply(lambda x: x.lower())"
   ]
  },
  {
   "cell_type": "code",
   "execution_count": null,
   "metadata": {},
   "outputs": [],
   "source": [
    "english_profile_info_tweets = pd.merge(english_profile_info_tweets,username_gov,on='username')"
   ]
  },
  {
   "cell_type": "code",
   "execution_count": null,
   "metadata": {},
   "outputs": [],
   "source": [
    "english_profile_info_tweets['language'] = 'English'"
   ]
  },
  {
   "cell_type": "code",
   "execution_count": null,
   "metadata": {},
   "outputs": [],
   "source": [
    "english_profile_info_tweets['method'] = 'Profile Info'"
   ]
  },
  {
   "cell_type": "code",
   "execution_count": null,
   "metadata": {},
   "outputs": [],
   "source": [
    "english_profile_info_tweets.drop(['id', 'conversation_id', 'created_at', 'timezone', 'user_id', 'mentions', 'photos', 'cashtags', 'link', 'retweet', 'quote_url', 'video', 'source', 'user_rt_id', 'user_rt', 'retweet_id', 'reply_to', 'retweet_date', 'translate', 'trans_src', 'trans_dest'], axis=1, inplace=True)\n"
   ]
  },
  {
   "cell_type": "code",
   "execution_count": null,
   "metadata": {},
   "outputs": [],
   "source": [
    "english_profile_info_tweets.to_csv('EgyptianEnglishProfileInfoTweets.csv')"
   ]
  },
  {
   "cell_type": "code",
   "execution_count": null,
   "metadata": {},
   "outputs": [],
   "source": [
    "arabic_profile_info_tweets = pd.read_csv('EgyptianArabicProfileInfoTweets.csv')"
   ]
  },
  {
   "cell_type": "code",
   "execution_count": null,
   "metadata": {},
   "outputs": [],
   "source": [
    "egyptian_profile_info_tweets = pd.concat([arabic_profile_info_tweets,english_profile_info_tweets]).reset_index(drop=True)"
   ]
  },
  {
   "cell_type": "code",
   "execution_count": null,
   "metadata": {},
   "outputs": [],
   "source": [
    "egyptian_profile_info_tweets.to_csv('EgyptianProfileInfoTweets.csv')"
   ]
  }
 ],
 "metadata": {
  "kernelspec": {
   "display_name": "Python 3",
   "language": "python",
   "name": "python3"
  },
  "language_info": {
   "codemirror_mode": {
    "name": "ipython",
    "version": 3
   },
   "file_extension": ".py",
   "mimetype": "text/x-python",
   "name": "python",
   "nbconvert_exporter": "python",
   "pygments_lexer": "ipython3",
   "version": "3.7.6"
  }
 },
 "nbformat": 4,
 "nbformat_minor": 4
}
